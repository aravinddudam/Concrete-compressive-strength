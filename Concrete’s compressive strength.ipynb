{
 "cells": [
  {
   "cell_type": "code",
   "execution_count": 1,
   "id": "a45a7af1",
   "metadata": {},
   "outputs": [],
   "source": [
    "# importing packages\n",
    "import numpy as np\n",
    "import pandas as pd \n",
    "import matplotlib.pyplot as plt"
   ]
  },
  {
   "cell_type": "code",
   "execution_count": 2,
   "id": "4cd86f05",
   "metadata": {},
   "outputs": [],
   "source": [
    "# loding the data\n",
    "df = pd.read_csv('Downloads/Concretedata.csv')"
   ]
  },
  {
   "cell_type": "code",
   "execution_count": 3,
   "id": "c402216d",
   "metadata": {},
   "outputs": [
    {
     "data": {
      "text/html": [
       "<div>\n",
       "<style scoped>\n",
       "    .dataframe tbody tr th:only-of-type {\n",
       "        vertical-align: middle;\n",
       "    }\n",
       "\n",
       "    .dataframe tbody tr th {\n",
       "        vertical-align: top;\n",
       "    }\n",
       "\n",
       "    .dataframe thead th {\n",
       "        text-align: right;\n",
       "    }\n",
       "</style>\n",
       "<table border=\"1\" class=\"dataframe\">\n",
       "  <thead>\n",
       "    <tr style=\"text-align: right;\">\n",
       "      <th></th>\n",
       "      <th>Cement (component 1)(kg in a m^3 mixture)</th>\n",
       "      <th>Blast Furnace Slag (component 2)(kg in a m^3 mixture)</th>\n",
       "      <th>Fly Ash (component 3)(kg in a m^3 mixture)</th>\n",
       "      <th>Water  (component 4)(kg in a m^3 mixture)</th>\n",
       "      <th>Superplasticizer (component 5)(kg in a m^3 mixture)</th>\n",
       "      <th>Coarse Aggregate  (component 6)(kg in a m^3 mixture)</th>\n",
       "      <th>Fine Aggregate (component 7)(kg in a m^3 mixture)</th>\n",
       "      <th>Age (day)</th>\n",
       "      <th>Concrete compressive strength(MPa, megapascals)</th>\n",
       "    </tr>\n",
       "  </thead>\n",
       "  <tbody>\n",
       "    <tr>\n",
       "      <th>0</th>\n",
       "      <td>540.0</td>\n",
       "      <td>0.0</td>\n",
       "      <td>0.0</td>\n",
       "      <td>162.0</td>\n",
       "      <td>2.5</td>\n",
       "      <td>1040.0</td>\n",
       "      <td>676.0</td>\n",
       "      <td>28</td>\n",
       "      <td>79.99</td>\n",
       "    </tr>\n",
       "    <tr>\n",
       "      <th>1</th>\n",
       "      <td>540.0</td>\n",
       "      <td>0.0</td>\n",
       "      <td>0.0</td>\n",
       "      <td>162.0</td>\n",
       "      <td>2.5</td>\n",
       "      <td>1055.0</td>\n",
       "      <td>676.0</td>\n",
       "      <td>28</td>\n",
       "      <td>61.89</td>\n",
       "    </tr>\n",
       "    <tr>\n",
       "      <th>2</th>\n",
       "      <td>332.5</td>\n",
       "      <td>142.5</td>\n",
       "      <td>0.0</td>\n",
       "      <td>228.0</td>\n",
       "      <td>0.0</td>\n",
       "      <td>932.0</td>\n",
       "      <td>594.0</td>\n",
       "      <td>270</td>\n",
       "      <td>40.27</td>\n",
       "    </tr>\n",
       "    <tr>\n",
       "      <th>3</th>\n",
       "      <td>332.5</td>\n",
       "      <td>142.5</td>\n",
       "      <td>0.0</td>\n",
       "      <td>228.0</td>\n",
       "      <td>0.0</td>\n",
       "      <td>932.0</td>\n",
       "      <td>594.0</td>\n",
       "      <td>365</td>\n",
       "      <td>41.05</td>\n",
       "    </tr>\n",
       "    <tr>\n",
       "      <th>4</th>\n",
       "      <td>198.6</td>\n",
       "      <td>132.4</td>\n",
       "      <td>0.0</td>\n",
       "      <td>192.0</td>\n",
       "      <td>0.0</td>\n",
       "      <td>978.4</td>\n",
       "      <td>825.5</td>\n",
       "      <td>360</td>\n",
       "      <td>44.30</td>\n",
       "    </tr>\n",
       "  </tbody>\n",
       "</table>\n",
       "</div>"
      ],
      "text/plain": [
       "   Cement (component 1)(kg in a m^3 mixture)  \\\n",
       "0                                      540.0   \n",
       "1                                      540.0   \n",
       "2                                      332.5   \n",
       "3                                      332.5   \n",
       "4                                      198.6   \n",
       "\n",
       "   Blast Furnace Slag (component 2)(kg in a m^3 mixture)  \\\n",
       "0                                                0.0       \n",
       "1                                                0.0       \n",
       "2                                              142.5       \n",
       "3                                              142.5       \n",
       "4                                              132.4       \n",
       "\n",
       "   Fly Ash (component 3)(kg in a m^3 mixture)  \\\n",
       "0                                         0.0   \n",
       "1                                         0.0   \n",
       "2                                         0.0   \n",
       "3                                         0.0   \n",
       "4                                         0.0   \n",
       "\n",
       "   Water  (component 4)(kg in a m^3 mixture)  \\\n",
       "0                                      162.0   \n",
       "1                                      162.0   \n",
       "2                                      228.0   \n",
       "3                                      228.0   \n",
       "4                                      192.0   \n",
       "\n",
       "   Superplasticizer (component 5)(kg in a m^3 mixture)  \\\n",
       "0                                                2.5     \n",
       "1                                                2.5     \n",
       "2                                                0.0     \n",
       "3                                                0.0     \n",
       "4                                                0.0     \n",
       "\n",
       "   Coarse Aggregate  (component 6)(kg in a m^3 mixture)  \\\n",
       "0                                             1040.0      \n",
       "1                                             1055.0      \n",
       "2                                              932.0      \n",
       "3                                              932.0      \n",
       "4                                              978.4      \n",
       "\n",
       "   Fine Aggregate (component 7)(kg in a m^3 mixture)  Age (day)  \\\n",
       "0                                              676.0         28   \n",
       "1                                              676.0         28   \n",
       "2                                              594.0        270   \n",
       "3                                              594.0        365   \n",
       "4                                              825.5        360   \n",
       "\n",
       "   Concrete compressive strength(MPa, megapascals)   \n",
       "0                                             79.99  \n",
       "1                                             61.89  \n",
       "2                                             40.27  \n",
       "3                                             41.05  \n",
       "4                                             44.30  "
      ]
     },
     "execution_count": 3,
     "metadata": {},
     "output_type": "execute_result"
    }
   ],
   "source": [
    "df.head()"
   ]
  },
  {
   "cell_type": "code",
   "execution_count": 4,
   "id": "b9a2bf78",
   "metadata": {},
   "outputs": [],
   "source": [
    "# since name of the columns are huge converting them into short names\n",
    "df.columns=['CC','BFS','FA','WC','SPC','CA','FAC','Age','CCS']"
   ]
  },
  {
   "cell_type": "code",
   "execution_count": 5,
   "id": "9387afbf",
   "metadata": {},
   "outputs": [
    {
     "data": {
      "text/html": [
       "<div>\n",
       "<style scoped>\n",
       "    .dataframe tbody tr th:only-of-type {\n",
       "        vertical-align: middle;\n",
       "    }\n",
       "\n",
       "    .dataframe tbody tr th {\n",
       "        vertical-align: top;\n",
       "    }\n",
       "\n",
       "    .dataframe thead th {\n",
       "        text-align: right;\n",
       "    }\n",
       "</style>\n",
       "<table border=\"1\" class=\"dataframe\">\n",
       "  <thead>\n",
       "    <tr style=\"text-align: right;\">\n",
       "      <th></th>\n",
       "      <th>CC</th>\n",
       "      <th>BFS</th>\n",
       "      <th>FA</th>\n",
       "      <th>WC</th>\n",
       "      <th>SPC</th>\n",
       "      <th>CA</th>\n",
       "      <th>FAC</th>\n",
       "      <th>Age</th>\n",
       "      <th>CCS</th>\n",
       "    </tr>\n",
       "  </thead>\n",
       "  <tbody>\n",
       "    <tr>\n",
       "      <th>0</th>\n",
       "      <td>540.0</td>\n",
       "      <td>0.0</td>\n",
       "      <td>0.0</td>\n",
       "      <td>162.0</td>\n",
       "      <td>2.5</td>\n",
       "      <td>1040.0</td>\n",
       "      <td>676.0</td>\n",
       "      <td>28</td>\n",
       "      <td>79.99</td>\n",
       "    </tr>\n",
       "    <tr>\n",
       "      <th>1</th>\n",
       "      <td>540.0</td>\n",
       "      <td>0.0</td>\n",
       "      <td>0.0</td>\n",
       "      <td>162.0</td>\n",
       "      <td>2.5</td>\n",
       "      <td>1055.0</td>\n",
       "      <td>676.0</td>\n",
       "      <td>28</td>\n",
       "      <td>61.89</td>\n",
       "    </tr>\n",
       "    <tr>\n",
       "      <th>2</th>\n",
       "      <td>332.5</td>\n",
       "      <td>142.5</td>\n",
       "      <td>0.0</td>\n",
       "      <td>228.0</td>\n",
       "      <td>0.0</td>\n",
       "      <td>932.0</td>\n",
       "      <td>594.0</td>\n",
       "      <td>270</td>\n",
       "      <td>40.27</td>\n",
       "    </tr>\n",
       "    <tr>\n",
       "      <th>3</th>\n",
       "      <td>332.5</td>\n",
       "      <td>142.5</td>\n",
       "      <td>0.0</td>\n",
       "      <td>228.0</td>\n",
       "      <td>0.0</td>\n",
       "      <td>932.0</td>\n",
       "      <td>594.0</td>\n",
       "      <td>365</td>\n",
       "      <td>41.05</td>\n",
       "    </tr>\n",
       "    <tr>\n",
       "      <th>4</th>\n",
       "      <td>198.6</td>\n",
       "      <td>132.4</td>\n",
       "      <td>0.0</td>\n",
       "      <td>192.0</td>\n",
       "      <td>0.0</td>\n",
       "      <td>978.4</td>\n",
       "      <td>825.5</td>\n",
       "      <td>360</td>\n",
       "      <td>44.30</td>\n",
       "    </tr>\n",
       "  </tbody>\n",
       "</table>\n",
       "</div>"
      ],
      "text/plain": [
       "      CC    BFS   FA     WC  SPC      CA    FAC  Age    CCS\n",
       "0  540.0    0.0  0.0  162.0  2.5  1040.0  676.0   28  79.99\n",
       "1  540.0    0.0  0.0  162.0  2.5  1055.0  676.0   28  61.89\n",
       "2  332.5  142.5  0.0  228.0  0.0   932.0  594.0  270  40.27\n",
       "3  332.5  142.5  0.0  228.0  0.0   932.0  594.0  365  41.05\n",
       "4  198.6  132.4  0.0  192.0  0.0   978.4  825.5  360  44.30"
      ]
     },
     "execution_count": 5,
     "metadata": {},
     "output_type": "execute_result"
    }
   ],
   "source": [
    "df.head()"
   ]
  },
  {
   "cell_type": "code",
   "execution_count": 6,
   "id": "a157822f",
   "metadata": {},
   "outputs": [
    {
     "data": {
      "text/plain": [
       "(1030, 9)"
      ]
     },
     "execution_count": 6,
     "metadata": {},
     "output_type": "execute_result"
    }
   ],
   "source": [
    "# understanding the data\n",
    "df.shape"
   ]
  },
  {
   "cell_type": "code",
   "execution_count": 7,
   "id": "c805a590",
   "metadata": {},
   "outputs": [
    {
     "data": {
      "text/plain": [
       "CC     0\n",
       "BFS    0\n",
       "FA     0\n",
       "WC     0\n",
       "SPC    0\n",
       "CA     0\n",
       "FAC    0\n",
       "Age    0\n",
       "CCS    0\n",
       "dtype: int64"
      ]
     },
     "execution_count": 7,
     "metadata": {},
     "output_type": "execute_result"
    }
   ],
   "source": [
    "## checking if any of the values are null\n",
    "df.isnull().sum()"
   ]
  },
  {
   "cell_type": "code",
   "execution_count": 8,
   "id": "216ca2ee",
   "metadata": {},
   "outputs": [],
   "source": [
    "# there are 1030 instance and 9 features"
   ]
  },
  {
   "cell_type": "code",
   "execution_count": 9,
   "id": "84dacb41",
   "metadata": {},
   "outputs": [
    {
     "name": "stdout",
     "output_type": "stream",
     "text": [
      "<class 'pandas.core.frame.DataFrame'>\n",
      "RangeIndex: 1030 entries, 0 to 1029\n",
      "Data columns (total 9 columns):\n",
      " #   Column  Non-Null Count  Dtype  \n",
      "---  ------  --------------  -----  \n",
      " 0   CC      1030 non-null   float64\n",
      " 1   BFS     1030 non-null   float64\n",
      " 2   FA      1030 non-null   float64\n",
      " 3   WC      1030 non-null   float64\n",
      " 4   SPC     1030 non-null   float64\n",
      " 5   CA      1030 non-null   float64\n",
      " 6   FAC     1030 non-null   float64\n",
      " 7   Age     1030 non-null   int64  \n",
      " 8   CCS     1030 non-null   float64\n",
      "dtypes: float64(8), int64(1)\n",
      "memory usage: 72.5 KB\n"
     ]
    }
   ],
   "source": [
    "df.info()"
   ]
  },
  {
   "cell_type": "markdown",
   "id": "761ddaf1",
   "metadata": {},
   "source": [
    "We can see that there all the 9 columns in the data are numerical"
   ]
  },
  {
   "cell_type": "code",
   "execution_count": 10,
   "id": "94312ac4",
   "metadata": {},
   "outputs": [
    {
     "data": {
      "text/html": [
       "<div>\n",
       "<style scoped>\n",
       "    .dataframe tbody tr th:only-of-type {\n",
       "        vertical-align: middle;\n",
       "    }\n",
       "\n",
       "    .dataframe tbody tr th {\n",
       "        vertical-align: top;\n",
       "    }\n",
       "\n",
       "    .dataframe thead th {\n",
       "        text-align: right;\n",
       "    }\n",
       "</style>\n",
       "<table border=\"1\" class=\"dataframe\">\n",
       "  <thead>\n",
       "    <tr style=\"text-align: right;\">\n",
       "      <th></th>\n",
       "      <th>CC</th>\n",
       "      <th>BFS</th>\n",
       "      <th>FA</th>\n",
       "      <th>WC</th>\n",
       "      <th>SPC</th>\n",
       "      <th>CA</th>\n",
       "      <th>FAC</th>\n",
       "      <th>Age</th>\n",
       "      <th>CCS</th>\n",
       "    </tr>\n",
       "  </thead>\n",
       "  <tbody>\n",
       "    <tr>\n",
       "      <th>count</th>\n",
       "      <td>1030.000000</td>\n",
       "      <td>1030.000000</td>\n",
       "      <td>1030.000000</td>\n",
       "      <td>1030.000000</td>\n",
       "      <td>1030.000000</td>\n",
       "      <td>1030.000000</td>\n",
       "      <td>1030.000000</td>\n",
       "      <td>1030.000000</td>\n",
       "      <td>1030.000000</td>\n",
       "    </tr>\n",
       "    <tr>\n",
       "      <th>mean</th>\n",
       "      <td>281.167864</td>\n",
       "      <td>73.895825</td>\n",
       "      <td>54.188350</td>\n",
       "      <td>181.567282</td>\n",
       "      <td>6.204660</td>\n",
       "      <td>972.918932</td>\n",
       "      <td>773.580485</td>\n",
       "      <td>45.662136</td>\n",
       "      <td>35.817961</td>\n",
       "    </tr>\n",
       "    <tr>\n",
       "      <th>std</th>\n",
       "      <td>104.506364</td>\n",
       "      <td>86.279342</td>\n",
       "      <td>63.997004</td>\n",
       "      <td>21.354219</td>\n",
       "      <td>5.973841</td>\n",
       "      <td>77.753954</td>\n",
       "      <td>80.175980</td>\n",
       "      <td>63.169912</td>\n",
       "      <td>16.705742</td>\n",
       "    </tr>\n",
       "    <tr>\n",
       "      <th>min</th>\n",
       "      <td>102.000000</td>\n",
       "      <td>0.000000</td>\n",
       "      <td>0.000000</td>\n",
       "      <td>121.800000</td>\n",
       "      <td>0.000000</td>\n",
       "      <td>801.000000</td>\n",
       "      <td>594.000000</td>\n",
       "      <td>1.000000</td>\n",
       "      <td>2.330000</td>\n",
       "    </tr>\n",
       "    <tr>\n",
       "      <th>25%</th>\n",
       "      <td>192.375000</td>\n",
       "      <td>0.000000</td>\n",
       "      <td>0.000000</td>\n",
       "      <td>164.900000</td>\n",
       "      <td>0.000000</td>\n",
       "      <td>932.000000</td>\n",
       "      <td>730.950000</td>\n",
       "      <td>7.000000</td>\n",
       "      <td>23.710000</td>\n",
       "    </tr>\n",
       "    <tr>\n",
       "      <th>50%</th>\n",
       "      <td>272.900000</td>\n",
       "      <td>22.000000</td>\n",
       "      <td>0.000000</td>\n",
       "      <td>185.000000</td>\n",
       "      <td>6.400000</td>\n",
       "      <td>968.000000</td>\n",
       "      <td>779.500000</td>\n",
       "      <td>28.000000</td>\n",
       "      <td>34.445000</td>\n",
       "    </tr>\n",
       "    <tr>\n",
       "      <th>75%</th>\n",
       "      <td>350.000000</td>\n",
       "      <td>142.950000</td>\n",
       "      <td>118.300000</td>\n",
       "      <td>192.000000</td>\n",
       "      <td>10.200000</td>\n",
       "      <td>1029.400000</td>\n",
       "      <td>824.000000</td>\n",
       "      <td>56.000000</td>\n",
       "      <td>46.135000</td>\n",
       "    </tr>\n",
       "    <tr>\n",
       "      <th>max</th>\n",
       "      <td>540.000000</td>\n",
       "      <td>359.400000</td>\n",
       "      <td>200.100000</td>\n",
       "      <td>247.000000</td>\n",
       "      <td>32.200000</td>\n",
       "      <td>1145.000000</td>\n",
       "      <td>992.600000</td>\n",
       "      <td>365.000000</td>\n",
       "      <td>82.600000</td>\n",
       "    </tr>\n",
       "  </tbody>\n",
       "</table>\n",
       "</div>"
      ],
      "text/plain": [
       "                CC          BFS           FA           WC          SPC  \\\n",
       "count  1030.000000  1030.000000  1030.000000  1030.000000  1030.000000   \n",
       "mean    281.167864    73.895825    54.188350   181.567282     6.204660   \n",
       "std     104.506364    86.279342    63.997004    21.354219     5.973841   \n",
       "min     102.000000     0.000000     0.000000   121.800000     0.000000   \n",
       "25%     192.375000     0.000000     0.000000   164.900000     0.000000   \n",
       "50%     272.900000    22.000000     0.000000   185.000000     6.400000   \n",
       "75%     350.000000   142.950000   118.300000   192.000000    10.200000   \n",
       "max     540.000000   359.400000   200.100000   247.000000    32.200000   \n",
       "\n",
       "                CA          FAC          Age          CCS  \n",
       "count  1030.000000  1030.000000  1030.000000  1030.000000  \n",
       "mean    972.918932   773.580485    45.662136    35.817961  \n",
       "std      77.753954    80.175980    63.169912    16.705742  \n",
       "min     801.000000   594.000000     1.000000     2.330000  \n",
       "25%     932.000000   730.950000     7.000000    23.710000  \n",
       "50%     968.000000   779.500000    28.000000    34.445000  \n",
       "75%    1029.400000   824.000000    56.000000    46.135000  \n",
       "max    1145.000000   992.600000   365.000000    82.600000  "
      ]
     },
     "execution_count": 10,
     "metadata": {},
     "output_type": "execute_result"
    }
   ],
   "source": [
    "## understanding the 5 point summary of the data\n",
    "df.describe()"
   ]
  },
  {
   "cell_type": "code",
   "execution_count": 11,
   "id": "2bc8550d",
   "metadata": {},
   "outputs": [
    {
     "data": {
      "text/html": [
       "<div>\n",
       "<style scoped>\n",
       "    .dataframe tbody tr th:only-of-type {\n",
       "        vertical-align: middle;\n",
       "    }\n",
       "\n",
       "    .dataframe tbody tr th {\n",
       "        vertical-align: top;\n",
       "    }\n",
       "\n",
       "    .dataframe thead th {\n",
       "        text-align: right;\n",
       "    }\n",
       "</style>\n",
       "<table border=\"1\" class=\"dataframe\">\n",
       "  <thead>\n",
       "    <tr style=\"text-align: right;\">\n",
       "      <th></th>\n",
       "      <th>CC</th>\n",
       "      <th>BFS</th>\n",
       "      <th>FA</th>\n",
       "      <th>WC</th>\n",
       "      <th>SPC</th>\n",
       "      <th>CA</th>\n",
       "      <th>FAC</th>\n",
       "      <th>Age</th>\n",
       "      <th>CCS</th>\n",
       "    </tr>\n",
       "  </thead>\n",
       "  <tbody>\n",
       "    <tr>\n",
       "      <th>CC</th>\n",
       "      <td>1.000000</td>\n",
       "      <td>-0.275216</td>\n",
       "      <td>-0.397467</td>\n",
       "      <td>-0.081587</td>\n",
       "      <td>0.092386</td>\n",
       "      <td>-0.109349</td>\n",
       "      <td>-0.222718</td>\n",
       "      <td>0.081946</td>\n",
       "      <td>0.497832</td>\n",
       "    </tr>\n",
       "    <tr>\n",
       "      <th>BFS</th>\n",
       "      <td>-0.275216</td>\n",
       "      <td>1.000000</td>\n",
       "      <td>-0.323580</td>\n",
       "      <td>0.107252</td>\n",
       "      <td>0.043270</td>\n",
       "      <td>-0.283999</td>\n",
       "      <td>-0.281603</td>\n",
       "      <td>-0.044246</td>\n",
       "      <td>0.134829</td>\n",
       "    </tr>\n",
       "    <tr>\n",
       "      <th>FA</th>\n",
       "      <td>-0.397467</td>\n",
       "      <td>-0.323580</td>\n",
       "      <td>1.000000</td>\n",
       "      <td>-0.256984</td>\n",
       "      <td>0.377503</td>\n",
       "      <td>-0.009961</td>\n",
       "      <td>0.079108</td>\n",
       "      <td>-0.154371</td>\n",
       "      <td>-0.105755</td>\n",
       "    </tr>\n",
       "    <tr>\n",
       "      <th>WC</th>\n",
       "      <td>-0.081587</td>\n",
       "      <td>0.107252</td>\n",
       "      <td>-0.256984</td>\n",
       "      <td>1.000000</td>\n",
       "      <td>-0.657533</td>\n",
       "      <td>-0.182294</td>\n",
       "      <td>-0.450661</td>\n",
       "      <td>0.277618</td>\n",
       "      <td>-0.289633</td>\n",
       "    </tr>\n",
       "    <tr>\n",
       "      <th>SPC</th>\n",
       "      <td>0.092386</td>\n",
       "      <td>0.043270</td>\n",
       "      <td>0.377503</td>\n",
       "      <td>-0.657533</td>\n",
       "      <td>1.000000</td>\n",
       "      <td>-0.265999</td>\n",
       "      <td>0.222691</td>\n",
       "      <td>-0.192700</td>\n",
       "      <td>0.366079</td>\n",
       "    </tr>\n",
       "    <tr>\n",
       "      <th>CA</th>\n",
       "      <td>-0.109349</td>\n",
       "      <td>-0.283999</td>\n",
       "      <td>-0.009961</td>\n",
       "      <td>-0.182294</td>\n",
       "      <td>-0.265999</td>\n",
       "      <td>1.000000</td>\n",
       "      <td>-0.178481</td>\n",
       "      <td>-0.003016</td>\n",
       "      <td>-0.164935</td>\n",
       "    </tr>\n",
       "    <tr>\n",
       "      <th>FAC</th>\n",
       "      <td>-0.222718</td>\n",
       "      <td>-0.281603</td>\n",
       "      <td>0.079108</td>\n",
       "      <td>-0.450661</td>\n",
       "      <td>0.222691</td>\n",
       "      <td>-0.178481</td>\n",
       "      <td>1.000000</td>\n",
       "      <td>-0.156095</td>\n",
       "      <td>-0.167241</td>\n",
       "    </tr>\n",
       "    <tr>\n",
       "      <th>Age</th>\n",
       "      <td>0.081946</td>\n",
       "      <td>-0.044246</td>\n",
       "      <td>-0.154371</td>\n",
       "      <td>0.277618</td>\n",
       "      <td>-0.192700</td>\n",
       "      <td>-0.003016</td>\n",
       "      <td>-0.156095</td>\n",
       "      <td>1.000000</td>\n",
       "      <td>0.328873</td>\n",
       "    </tr>\n",
       "    <tr>\n",
       "      <th>CCS</th>\n",
       "      <td>0.497832</td>\n",
       "      <td>0.134829</td>\n",
       "      <td>-0.105755</td>\n",
       "      <td>-0.289633</td>\n",
       "      <td>0.366079</td>\n",
       "      <td>-0.164935</td>\n",
       "      <td>-0.167241</td>\n",
       "      <td>0.328873</td>\n",
       "      <td>1.000000</td>\n",
       "    </tr>\n",
       "  </tbody>\n",
       "</table>\n",
       "</div>"
      ],
      "text/plain": [
       "           CC       BFS        FA        WC       SPC        CA       FAC  \\\n",
       "CC   1.000000 -0.275216 -0.397467 -0.081587  0.092386 -0.109349 -0.222718   \n",
       "BFS -0.275216  1.000000 -0.323580  0.107252  0.043270 -0.283999 -0.281603   \n",
       "FA  -0.397467 -0.323580  1.000000 -0.256984  0.377503 -0.009961  0.079108   \n",
       "WC  -0.081587  0.107252 -0.256984  1.000000 -0.657533 -0.182294 -0.450661   \n",
       "SPC  0.092386  0.043270  0.377503 -0.657533  1.000000 -0.265999  0.222691   \n",
       "CA  -0.109349 -0.283999 -0.009961 -0.182294 -0.265999  1.000000 -0.178481   \n",
       "FAC -0.222718 -0.281603  0.079108 -0.450661  0.222691 -0.178481  1.000000   \n",
       "Age  0.081946 -0.044246 -0.154371  0.277618 -0.192700 -0.003016 -0.156095   \n",
       "CCS  0.497832  0.134829 -0.105755 -0.289633  0.366079 -0.164935 -0.167241   \n",
       "\n",
       "          Age       CCS  \n",
       "CC   0.081946  0.497832  \n",
       "BFS -0.044246  0.134829  \n",
       "FA  -0.154371 -0.105755  \n",
       "WC   0.277618 -0.289633  \n",
       "SPC -0.192700  0.366079  \n",
       "CA  -0.003016 -0.164935  \n",
       "FAC -0.156095 -0.167241  \n",
       "Age  1.000000  0.328873  \n",
       "CCS  0.328873  1.000000  "
      ]
     },
     "execution_count": 11,
     "metadata": {},
     "output_type": "execute_result"
    }
   ],
   "source": [
    "## checking the relationship between the feature variables\n",
    "df.corr()"
   ]
  },
  {
   "cell_type": "markdown",
   "id": "a09b041f",
   "metadata": {},
   "source": [
    "from the above we can see that class variable CCS is not Strongly correlated with any other variable."
   ]
  },
  {
   "cell_type": "markdown",
   "id": "2e956403",
   "metadata": {},
   "source": [
    "_"
   ]
  },
  {
   "cell_type": "markdown",
   "id": "37e518be",
   "metadata": {},
   "source": [
    "Since our problem statement is to find the if the Concrete compressive strength is suitable for a residental complex we will comverting the CCS columns into binary class"
   ]
  },
  {
   "cell_type": "code",
   "execution_count": 12,
   "id": "ab547e38",
   "metadata": {},
   "outputs": [],
   "source": [
    "def new_class(x):\n",
    "    if (x >= 17)&(x<=28):\n",
    "        return(1)\n",
    "    else:\n",
    "        return(0)"
   ]
  },
  {
   "cell_type": "code",
   "execution_count": 13,
   "id": "7d228f2c",
   "metadata": {},
   "outputs": [],
   "source": [
    "df['Class'] = df['CCS'].apply(new_class)"
   ]
  },
  {
   "cell_type": "code",
   "execution_count": 14,
   "id": "7833d316",
   "metadata": {},
   "outputs": [],
   "source": [
    "import seaborn as sns"
   ]
  },
  {
   "cell_type": "code",
   "execution_count": 15,
   "id": "d8c9bce1",
   "metadata": {},
   "outputs": [
    {
     "data": {
      "text/plain": [
       "0    817\n",
       "1    213\n",
       "Name: Class, dtype: int64"
      ]
     },
     "execution_count": 15,
     "metadata": {},
     "output_type": "execute_result"
    }
   ],
   "source": [
    "df['Class'].value_counts()"
   ]
  },
  {
   "cell_type": "code",
   "execution_count": 16,
   "id": "9b04705f",
   "metadata": {},
   "outputs": [],
   "source": [
    "## creating different dataframes for dependent and independent variables\n",
    "X = df.drop(['CCS','Class'],axis=1)\n",
    "Y = df['Class']"
   ]
  },
  {
   "cell_type": "code",
   "execution_count": 17,
   "id": "f357bc38",
   "metadata": {},
   "outputs": [],
   "source": [
    "## spliting the Data into Train Test\n",
    "from sklearn.model_selection import train_test_split\n",
    "X_train,X_test,y_train,y_test = train_test_split(X,Y,test_size=0.3)"
   ]
  },
  {
   "cell_type": "code",
   "execution_count": 18,
   "id": "dbaed9b6",
   "metadata": {},
   "outputs": [],
   "source": [
    "import numpy as np\n",
    "import pandas as pd\n",
    "import matplotlib.pyplot as plt\n",
    "%matplotlib inline\n",
    "import seaborn as sns\n",
    "from sklearn.linear_model import LinearRegression\n",
    "from sklearn.preprocessing import StandardScaler\n",
    "from sklearn import model_selection\n",
    "import statsmodels.formula.api as smf"
   ]
  },
  {
   "cell_type": "code",
   "execution_count": 19,
   "id": "34c212e8",
   "metadata": {},
   "outputs": [],
   "source": [
    "## fitting a Base model "
   ]
  },
  {
   "cell_type": "code",
   "execution_count": 20,
   "id": "3a1d7966",
   "metadata": {},
   "outputs": [],
   "source": [
    "from sklearn.metrics import f1_score, make_scorer,precision_score\n",
    "\n",
    "Precision = make_scorer(precision_score)"
   ]
  },
  {
   "cell_type": "code",
   "execution_count": 25,
   "id": "ef1604b6",
   "metadata": {},
   "outputs": [],
   "source": [
    "from sklearn.linear_model import LogisticRegression\n",
    "from sklearn.neighbors import KNeighborsClassifier\n",
    "from sklearn.tree import DecisionTreeClassifier\n",
    "from sklearn.ensemble import RandomForestClassifier,AdaBoostClassifier,GradientBoostingClassifier\n",
    "from sklearn.ensemble import VotingClassifier\n",
    "from xgboost import XGBClassifier"
   ]
  },
  {
   "cell_type": "code",
   "execution_count": 26,
   "id": "e2360cc4",
   "metadata": {},
   "outputs": [],
   "source": [
    "LR = LogisticRegression()\n",
    "DT = DecisionTreeClassifier()\n",
    "Knn = KNeighborsClassifier(n_neighbors=4)\n",
    "RF = RandomForestClassifier()\n",
    "GBoost = GradientBoostingClassifier()\n",
    "AB = AdaBoostClassifier()"
   ]
  },
  {
   "cell_type": "code",
   "execution_count": 27,
   "id": "875d5094",
   "metadata": {},
   "outputs": [],
   "source": [
    "models = []\n",
    "models.append(('Logistic',LR))\n",
    "models.append(('Decision_Tree',DT))\n",
    "models.append(('KNN',Knn))\n",
    "models.append(('RandomForest',RF))\n",
    "models.append(('AdaBoost',AB))\n",
    "models.append(('GradientBoost',GBoost))"
   ]
  },
  {
   "cell_type": "code",
   "execution_count": 28,
   "id": "594d7b32",
   "metadata": {},
   "outputs": [
    {
     "name": "stdout",
     "output_type": "stream",
     "text": [
      "Logistic: 0.000000 (0.000000)\n",
      "Decision_Tree: 0.541439 (0.150696)\n",
      "KNN: 0.486905 (0.335922)\n",
      "RandomForest: 0.577201 (0.176595)\n",
      "AdaBoost: 0.378225 (0.140027)\n",
      "GradientBoost: 0.677735 (0.256616)\n"
     ]
    },
    {
     "data": {
      "image/png": "[encoded data removed]",
      "text/plain": [
       "<Figure size 640x480 with 1 Axes>"
      ]
     },
     "metadata": {},
     "output_type": "display_data"
    }
   ],
   "source": [
    "# evaluate each model in turn\n",
    "results = []\n",
    "names = []\n",
    "for name, model in models:\n",
    "    kfold = model_selection.KFold(shuffle=True,n_splits=10,random_state=0)\n",
    "    cv_results = model_selection.cross_val_score(model, X_train, y_train,cv=kfold, scoring= Precision )\n",
    "    results.append(cv_results)\n",
    "    names.append(name)\n",
    "    print(\"%s: %f (%f)\" % (name, np.mean(cv_results),np.std(cv_results,ddof=1)))\n",
    "# boxplot algorithm comparison\n",
    "fig = plt.figure()\n",
    "fig.suptitle('Algorithm Comparison')\n",
    "ax = fig.add_subplot(111)\n",
    "plt.boxplot(results)\n",
    "ax.set_xticklabels(names)\n",
    "plt.show()"
   ]
  },
  {
   "cell_type": "code",
   "execution_count": 29,
   "id": "f9c96030",
   "metadata": {},
   "outputs": [],
   "source": [
    "### Adaboost Model"
   ]
  },
  {
   "cell_type": "code",
   "execution_count": 30,
   "id": "969cdc7d",
   "metadata": {},
   "outputs": [],
   "source": [
    "## Standarding the Data\n",
    "sc=StandardScaler()\n",
    "X_std = sc.fit_transform(X)"
   ]
  },
  {
   "cell_type": "code",
   "execution_count": 31,
   "id": "c1b3f098",
   "metadata": {},
   "outputs": [],
   "source": [
    "X_train,X_test,y_train,y_test = train_test_split(X_std,Y,test_size=0.3)"
   ]
  },
  {
   "cell_type": "code",
   "execution_count": 32,
   "id": "ff020768",
   "metadata": {},
   "outputs": [
    {
     "name": "stdout",
     "output_type": "stream",
     "text": [
      "Logistic: 0.110000 (0.166333)\n"
     ]
    },
    {
     "name": "stderr",
     "output_type": "stream",
     "text": [
      "C:\\Users\\aravinddudam\\AppData\\Local\\anaconda3\\lib\\site-packages\\sklearn\\metrics\\_classification.py:1344: UndefinedMetricWarning: Precision is ill-defined and being set to 0.0 due to no predicted samples. Use `zero_division` parameter to control this behavior.\n",
      "  _warn_prf(average, modifier, msg_start, len(result))\n"
     ]
    },
    {
     "name": "stdout",
     "output_type": "stream",
     "text": [
      "Decision_Tree: 0.528921 (0.142891)\n",
      "KNN: 0.576786 (0.184150)\n",
      "RandomForest: 0.627009 (0.155146)\n",
      "AdaBoost: 0.401407 (0.170608)\n",
      "GradientBoost: 0.688811 (0.223360)\n"
     ]
    },
    {
     "data": {
      "image/png": "[encoded data removed]",
      "text/plain": [
       "<Figure size 640x480 with 1 Axes>"
      ]
     },
     "metadata": {},
     "output_type": "display_data"
    }
   ],
   "source": [
    "# evaluate each model in turn\n",
    "results = []\n",
    "names = []\n",
    "for name, model in models:\n",
    "    kfold = model_selection.KFold(shuffle=True,n_splits=10,random_state=0)\n",
    "    cv_results = model_selection.cross_val_score(model, X_train, y_train,cv=kfold, scoring= Precision )\n",
    "    results.append(cv_results)\n",
    "    names.append(name)\n",
    "    print(\"%s: %f (%f)\" % (name, np.mean(cv_results),np.std(cv_results,ddof=1)))\n",
    "# boxplot algorithm comparison\n",
    "fig = plt.figure()\n",
    "fig.suptitle('Algorithm Comparison')\n",
    "ax = fig.add_subplot(111)\n",
    "plt.boxplot(results)\n",
    "ax.set_xticklabels(names)\n",
    "plt.show()"
   ]
  },
  {
   "cell_type": "code",
   "execution_count": 33,
   "id": "806a0734",
   "metadata": {},
   "outputs": [],
   "source": [
    "## Logistics Regression"
   ]
  },
  {
   "cell_type": "code",
   "execution_count": 34,
   "id": "ac5c8698",
   "metadata": {},
   "outputs": [],
   "source": [
    "##### Data Balancing"
   ]
  },
  {
   "cell_type": "code",
   "execution_count": 35,
   "id": "06a4d106",
   "metadata": {},
   "outputs": [],
   "source": [
    "from imblearn.over_sampling import RandomOverSampler\n",
    "oversample = RandomOverSampler(sampling_strategy='minority')"
   ]
  },
  {
   "cell_type": "code",
   "execution_count": 36,
   "id": "3feef8f6",
   "metadata": {},
   "outputs": [
    {
     "data": {
      "text/plain": [
       "Text(0.5, 1.0, 'Outcome ytrain')"
      ]
     },
     "execution_count": 36,
     "metadata": {},
     "output_type": "execute_result"
    },
    {
     "data": {
      "image/png": "[encoded data removed]",
      "text/plain": [
       "<Figure size 640x480 with 1 Axes>"
      ]
     },
     "metadata": {},
     "output_type": "display_data"
    }
   ],
   "source": [
    "X_train_new, y_train_new = oversample.fit_resample(X_train, y_train.ravel())\n",
    "class_balance = pd.Series(y_train_new).value_counts().plot.bar()\n",
    "class_balance.set_title(\"Outcome ytrain\")"
   ]
  },
  {
   "cell_type": "code",
   "execution_count": 37,
   "id": "2bce5192",
   "metadata": {},
   "outputs": [],
   "source": [
    "## MODELING 3"
   ]
  },
  {
   "cell_type": "code",
   "execution_count": 38,
   "id": "bac98845",
   "metadata": {},
   "outputs": [
    {
     "name": "stdout",
     "output_type": "stream",
     "text": [
      "Logistic: 0.718668 (0.046036)\n",
      "Decision_Tree: 0.872228 (0.058633)\n",
      "KNN: 0.771448 (0.053716)\n",
      "RandomForest: 0.869060 (0.048070)\n",
      "AdaBoost: 0.745413 (0.053629)\n",
      "GradientBoost: 0.827156 (0.071595)\n"
     ]
    },
    {
     "data": {
      "image/png": "[encoded data removed]",
      "text/plain": [
       "<Figure size 640x480 with 1 Axes>"
      ]
     },
     "metadata": {},
     "output_type": "display_data"
    }
   ],
   "source": [
    "# evaluate each model in turn\n",
    "results = []\n",
    "names = []\n",
    "for name, model in models:\n",
    "    kfold = model_selection.KFold(shuffle=True,n_splits=10,random_state=0)\n",
    "    cv_results = model_selection.cross_val_score(model, X_train_new, y_train_new,cv=kfold, scoring= Precision )\n",
    "    results.append(cv_results)\n",
    "    names.append(name)\n",
    "    print(\"%s: %f (%f)\" % (name, np.mean(cv_results),np.std(cv_results,ddof=1)))\n",
    "# boxplot algorithm comparison\n",
    "fig = plt.figure()\n",
    "fig.suptitle('Algorithm Comparison')\n",
    "ax = fig.add_subplot(111)\n",
    "plt.boxplot(results)\n",
    "ax.set_xticklabels(names)\n",
    "plt.show()"
   ]
  },
  {
   "cell_type": "code",
   "execution_count": 39,
   "id": "a54ad91d",
   "metadata": {},
   "outputs": [],
   "source": [
    "## Logistic"
   ]
  },
  {
   "cell_type": "markdown",
   "id": "6726f3b8",
   "metadata": {},
   "source": [
    "# Comparing Between the models with hyperparameter tuning for each indiviual model"
   ]
  },
  {
   "cell_type": "code",
   "execution_count": 40,
   "id": "3909b5d9",
   "metadata": {},
   "outputs": [],
   "source": [
    "# Initialze the estimators\n",
    "m0 = LogisticRegression()\n",
    "m1 = DecisionTreeClassifier()\n",
    "m2 = RandomForestClassifier()\n",
    "m3 = KNeighborsClassifier()\n",
    "m4 = GradientBoostingClassifier()\n",
    "m5 = AdaBoostClassifier()\n",
    "m6 = XGBClassifier()"
   ]
  },
  {
   "cell_type": "code",
   "execution_count": 41,
   "id": "13088217",
   "metadata": {},
   "outputs": [],
   "source": [
    "Param0 =  { 'classifier__solver': ['newton-cg', 'lbfgs', 'liblinear', 'sag', 'saga'],\n",
    "                      'classifier__penalty': ['l1', 'l2', 'none'],\n",
    "                      'classifier__C': [100, 10, 1.0, 0.1, 0.01],\n",
    "                      'classifier__max_iter': [500000]\n",
    "                     }"
   ]
  },
  {
   "cell_type": "code",
   "execution_count": 42,
   "id": "e1e47d08",
   "metadata": {},
   "outputs": [],
   "source": [
    "param1 = {}\n",
    "param1['classifier__max_depth'] = [5,10,25,None]\n",
    "param1['classifier__min_samples_split'] = [2,5,10]\n",
    "param1['classifier'] = [m1]"
   ]
  },
  {
   "cell_type": "code",
   "execution_count": 43,
   "id": "525e82a1",
   "metadata": {},
   "outputs": [],
   "source": [
    "param2 = {}\n",
    "param2['classifier__n_estimators'] = [10, 50, 100]\n",
    "param2['classifier__max_depth'] = [5, 10, 20]\n",
    "param2['classifier'] = [m2]"
   ]
  },
  {
   "cell_type": "code",
   "execution_count": 44,
   "id": "a46676a3",
   "metadata": {},
   "outputs": [],
   "source": [
    "param3 = {}\n",
    "param3['classifier__n_neighbors'] = [1,2,3,4,5,6,7,8,9]\n",
    "param3['classifier'] = [m3]             "
   ]
  },
  {
   "cell_type": "code",
   "execution_count": 45,
   "id": "180fbfc0",
   "metadata": {},
   "outputs": [],
   "source": [
    "param4 = {}\n",
    "param4['classifier__n_estimators'] = [10, 50, 100]\n",
    "param4['classifier__learning_rate'] =[0.1,0.05,0.02]\n",
    "param4['classifier__max_depth'] = [5, 10]\n",
    "param4['classifier'] = [m4]"
   ]
  },
  {
   "cell_type": "code",
   "execution_count": 46,
   "id": "abf054ee",
   "metadata": {},
   "outputs": [],
   "source": [
    "param5 = {}\n",
    "param5['classifier__n_estimators'] = [10, 50, 100, 250]\n",
    "param5['classifier__learning_rate'] = [0.001, 0.01, 0.1, 1.0]\n",
    "param5['classifier'] = [m5]"
   ]
  },
  {
   "cell_type": "code",
   "execution_count": 47,
   "id": "dfe4bbb4",
   "metadata": {},
   "outputs": [],
   "source": [
    "param6 = {\n",
    "        'classifier__min_child_weight': [1, 5, 10],\n",
    "        'classifier__gamma': [0.5, 1, 1.5, 2, 5],\n",
    "        'classifier__subsample': [0.6, 0.8, 1.0],\n",
    "        'classifier__max_depth': [3, 4, 5],\n",
    "        'classifier' : [m6]\n",
    "        }"
   ]
  },
  {
   "cell_type": "code",
   "execution_count": 48,
   "id": "f7d96d20",
   "metadata": {},
   "outputs": [],
   "source": [
    "from sklearn.pipeline import Pipeline"
   ]
  },
  {
   "cell_type": "code",
   "execution_count": 49,
   "id": "adf33262",
   "metadata": {},
   "outputs": [],
   "source": [
    "pips = [Pipeline([('classifier', m0)]),Pipeline([('classifier', m1)]),Pipeline([('classifier', m2)]),Pipeline([('classifier', m3)]),Pipeline([('classifier', m4)]),\n",
    "       Pipeline([('classifier', m5)])]\n",
    "pars = [Param0 ,param1, param2, param3, param4, param5]"
   ]
  },
  {
   "cell_type": "code",
   "execution_count": 50,
   "id": "050395b3",
   "metadata": {},
   "outputs": [],
   "source": [
    "from sklearn.model_selection import GridSearchCV, RandomizedSearchCV"
   ]
  },
  {
   "cell_type": "code",
   "execution_count": 51,
   "id": "d4cb388e",
   "metadata": {},
   "outputs": [],
   "source": [
    "### using Precision as evaluation metric"
   ]
  },
  {
   "cell_type": "code",
   "execution_count": 52,
   "id": "d546d1fc",
   "metadata": {},
   "outputs": [
    {
     "name": "stdout",
     "output_type": "stream",
     "text": [
      "starting Gridsearch\n"
     ]
    },
    {
     "name": "stderr",
     "output_type": "stream",
     "text": [
      "C:\\Users\\aravinddudam\\AppData\\Local\\anaconda3\\lib\\site-packages\\sklearn\\model_selection\\_validation.py:378: FitFailedWarning: \n",
      "140 fits failed out of a total of 525.\n",
      "The score on these train-test partitions for these parameters will be set to nan.\n",
      "If these failures are not expected, you can try to debug them by setting error_score='raise'.\n",
      "\n",
      "Below are more details about the failures:\n",
      "--------------------------------------------------------------------------------\n",
      "35 fits failed with the following error:\n",
      "Traceback (most recent call last):\n",
      "  File \"C:\\Users\\aravinddudam\\AppData\\Local\\anaconda3\\lib\\site-packages\\sklearn\\model_selection\\_validation.py\", line 686, in _fit_and_score\n",
      "    estimator.fit(X_train, y_train, **fit_params)\n",
      "  File \"C:\\Users\\aravinddudam\\AppData\\Local\\anaconda3\\lib\\site-packages\\sklearn\\pipeline.py\", line 405, in fit\n",
      "    self._final_estimator.fit(Xt, y, **fit_params_last_step)\n",
      "  File \"C:\\Users\\aravinddudam\\AppData\\Local\\anaconda3\\lib\\site-packages\\sklearn\\linear_model\\_logistic.py\", line 1162, in fit\n",
      "    solver = _check_solver(self.solver, self.penalty, self.dual)\n",
      "  File \"C:\\Users\\aravinddudam\\AppData\\Local\\anaconda3\\lib\\site-packages\\sklearn\\linear_model\\_logistic.py\", line 54, in _check_solver\n",
      "    raise ValueError(\n",
      "ValueError: Solver newton-cg supports only 'l2' or 'none' penalties, got l1 penalty.\n",
      "\n",
      "--------------------------------------------------------------------------------\n",
      "35 fits failed with the following error:\n",
      "Traceback (most recent call last):\n",
      "  File \"C:\\Users\\aravinddudam\\AppData\\Local\\anaconda3\\lib\\site-packages\\sklearn\\model_selection\\_validation.py\", line 686, in _fit_and_score\n",
      "    estimator.fit(X_train, y_train, **fit_params)\n",
      "  File \"C:\\Users\\aravinddudam\\AppData\\Local\\anaconda3\\lib\\site-packages\\sklearn\\pipeline.py\", line 405, in fit\n",
      "    self._final_estimator.fit(Xt, y, **fit_params_last_step)\n",
      "  File \"C:\\Users\\aravinddudam\\AppData\\Local\\anaconda3\\lib\\site-packages\\sklearn\\linear_model\\_logistic.py\", line 1162, in fit\n",
      "    solver = _check_solver(self.solver, self.penalty, self.dual)\n",
      "  File \"C:\\Users\\aravinddudam\\AppData\\Local\\anaconda3\\lib\\site-packages\\sklearn\\linear_model\\_logistic.py\", line 54, in _check_solver\n",
      "    raise ValueError(\n",
      "ValueError: Solver lbfgs supports only 'l2' or 'none' penalties, got l1 penalty.\n",
      "\n",
      "--------------------------------------------------------------------------------\n",
      "35 fits failed with the following error:\n",
      "Traceback (most recent call last):\n",
      "  File \"C:\\Users\\aravinddudam\\AppData\\Local\\anaconda3\\lib\\site-packages\\sklearn\\model_selection\\_validation.py\", line 686, in _fit_and_score\n",
      "    estimator.fit(X_train, y_train, **fit_params)\n",
      "  File \"C:\\Users\\aravinddudam\\AppData\\Local\\anaconda3\\lib\\site-packages\\sklearn\\pipeline.py\", line 405, in fit\n",
      "    self._final_estimator.fit(Xt, y, **fit_params_last_step)\n",
      "  File \"C:\\Users\\aravinddudam\\AppData\\Local\\anaconda3\\lib\\site-packages\\sklearn\\linear_model\\_logistic.py\", line 1162, in fit\n",
      "    solver = _check_solver(self.solver, self.penalty, self.dual)\n",
      "  File \"C:\\Users\\aravinddudam\\AppData\\Local\\anaconda3\\lib\\site-packages\\sklearn\\linear_model\\_logistic.py\", line 54, in _check_solver\n",
      "    raise ValueError(\n",
      "ValueError: Solver sag supports only 'l2' or 'none' penalties, got l1 penalty.\n",
      "\n",
      "--------------------------------------------------------------------------------\n",
      "35 fits failed with the following error:\n",
      "Traceback (most recent call last):\n",
      "  File \"C:\\Users\\aravinddudam\\AppData\\Local\\anaconda3\\lib\\site-packages\\sklearn\\model_selection\\_validation.py\", line 686, in _fit_and_score\n",
      "    estimator.fit(X_train, y_train, **fit_params)\n",
      "  File \"C:\\Users\\aravinddudam\\AppData\\Local\\anaconda3\\lib\\site-packages\\sklearn\\pipeline.py\", line 405, in fit\n",
      "    self._final_estimator.fit(Xt, y, **fit_params_last_step)\n",
      "  File \"C:\\Users\\aravinddudam\\AppData\\Local\\anaconda3\\lib\\site-packages\\sklearn\\linear_model\\_logistic.py\", line 1162, in fit\n",
      "    solver = _check_solver(self.solver, self.penalty, self.dual)\n",
      "  File \"C:\\Users\\aravinddudam\\AppData\\Local\\anaconda3\\lib\\site-packages\\sklearn\\linear_model\\_logistic.py\", line 71, in _check_solver\n",
      "    raise ValueError(\"penalty='none' is not supported for the liblinear solver\")\n",
      "ValueError: penalty='none' is not supported for the liblinear solver\n",
      "\n",
      "  warnings.warn(some_fits_failed_message, FitFailedWarning)\n",
      "C:\\Users\\aravinddudam\\AppData\\Local\\anaconda3\\lib\\site-packages\\sklearn\\model_selection\\_search.py:952: UserWarning: One or more of the test scores are non-finite: [       nan        nan 0.72054045        nan 0.72054045 0.72054045\n",
      " 0.72054045 0.72054045 0.72054045 0.72054045 0.72054045 0.72054045\n",
      "        nan 0.72054045 0.72054045        nan        nan 0.7216945\n",
      "        nan 0.7216945  0.72058234 0.72058234 0.72104306 0.72104306\n",
      " 0.72058234 0.72054045 0.72054045        nan 0.72054045 0.72054045\n",
      "        nan        nan 0.72126698        nan 0.72126698 0.72148146\n",
      " 0.72148146 0.71923543 0.72148146 0.72148146 0.72054045 0.72054045\n",
      "        nan 0.72054045 0.72054045        nan        nan 0.7079908\n",
      "        nan 0.71976278 0.71491115 0.71491115 0.70936735 0.71491115\n",
      " 0.71491115 0.72054045 0.72054045        nan 0.72054045 0.72054045\n",
      "        nan        nan 0.59472031        nan 0.62621848 0.69535558\n",
      " 0.69535558 0.67900519 0.69535558 0.69535558 0.72054045 0.72054045\n",
      "        nan 0.72054045 0.72054045]\n",
      "  warnings.warn(\n"
     ]
    },
    {
     "name": "stdout",
     "output_type": "stream",
     "text": [
      "finished Gridsearch\n",
      "0.721694495702726\n",
      "{'classifier__C': 10, 'classifier__max_iter': 500000, 'classifier__penalty': 'l1', 'classifier__solver': 'liblinear'}\n",
      "*****************************************************************************************************************************\n",
      "finished Gridsearch\n",
      "0.8765084784886561\n",
      "{'classifier': DecisionTreeClassifier(), 'classifier__max_depth': None, 'classifier__min_samples_split': 2}\n",
      "*****************************************************************************************************************************\n",
      "finished Gridsearch\n",
      "0.8801686888545515\n",
      "{'classifier': RandomForestClassifier(max_depth=20, n_estimators=10), 'classifier__max_depth': 20, 'classifier__n_estimators': 10}\n",
      "*****************************************************************************************************************************\n",
      "finished Gridsearch\n",
      "0.8519750124159867\n",
      "{'classifier': KNeighborsClassifier(n_neighbors=2), 'classifier__n_neighbors': 2}\n",
      "*****************************************************************************************************************************\n",
      "finished Gridsearch\n",
      "0.9065988434523776\n",
      "{'classifier': GradientBoostingClassifier(learning_rate=0.05, max_depth=10), 'classifier__learning_rate': 0.05, 'classifier__max_depth': 10, 'classifier__n_estimators': 100}\n",
      "*****************************************************************************************************************************\n",
      "finished Gridsearch\n",
      "0.7722107842032654\n",
      "{'classifier': AdaBoostClassifier(n_estimators=250), 'classifier__learning_rate': 1.0, 'classifier__n_estimators': 250}\n",
      "*****************************************************************************************************************************\n"
     ]
    }
   ],
   "source": [
    "print(\"starting Gridsearch\")\n",
    "for i in range(len(pars)):\n",
    "    gs = GridSearchCV(pips[i], pars[i], cv=7 , n_jobs=-1, scoring = Precision )\n",
    "    gs = gs.fit(X_train_new,y_train_new)\n",
    "    print(\"finished Gridsearch\")\n",
    "    print(gs.best_score_)\n",
    "    print(gs.best_params_)\n",
    "    print(\"*\"*125)"
   ]
  },
  {
   "cell_type": "code",
   "execution_count": 53,
   "id": "858a537f",
   "metadata": {},
   "outputs": [
    {
     "name": "stdout",
     "output_type": "stream",
     "text": [
      "starting Gridsearch\n"
     ]
    },
    {
     "name": "stderr",
     "output_type": "stream",
     "text": [
      "C:\\Users\\aravinddudam\\AppData\\Local\\anaconda3\\lib\\site-packages\\sklearn\\model_selection\\_validation.py:378: FitFailedWarning: \n",
      "140 fits failed out of a total of 525.\n",
      "The score on these train-test partitions for these parameters will be set to nan.\n",
      "If these failures are not expected, you can try to debug them by setting error_score='raise'.\n",
      "\n",
      "Below are more details about the failures:\n",
      "--------------------------------------------------------------------------------\n",
      "35 fits failed with the following error:\n",
      "Traceback (most recent call last):\n",
      "  File \"C:\\Users\\aravinddudam\\AppData\\Local\\anaconda3\\lib\\site-packages\\sklearn\\model_selection\\_validation.py\", line 686, in _fit_and_score\n",
      "    estimator.fit(X_train, y_train, **fit_params)\n",
      "  File \"C:\\Users\\aravinddudam\\AppData\\Local\\anaconda3\\lib\\site-packages\\sklearn\\pipeline.py\", line 405, in fit\n",
      "    self._final_estimator.fit(Xt, y, **fit_params_last_step)\n",
      "  File \"C:\\Users\\aravinddudam\\AppData\\Local\\anaconda3\\lib\\site-packages\\sklearn\\linear_model\\_logistic.py\", line 1162, in fit\n",
      "    solver = _check_solver(self.solver, self.penalty, self.dual)\n",
      "  File \"C:\\Users\\aravinddudam\\AppData\\Local\\anaconda3\\lib\\site-packages\\sklearn\\linear_model\\_logistic.py\", line 54, in _check_solver\n",
      "    raise ValueError(\n",
      "ValueError: Solver newton-cg supports only 'l2' or 'none' penalties, got l1 penalty.\n",
      "\n",
      "--------------------------------------------------------------------------------\n",
      "35 fits failed with the following error:\n",
      "Traceback (most recent call last):\n",
      "  File \"C:\\Users\\aravinddudam\\AppData\\Local\\anaconda3\\lib\\site-packages\\sklearn\\model_selection\\_validation.py\", line 686, in _fit_and_score\n",
      "    estimator.fit(X_train, y_train, **fit_params)\n",
      "  File \"C:\\Users\\aravinddudam\\AppData\\Local\\anaconda3\\lib\\site-packages\\sklearn\\pipeline.py\", line 405, in fit\n",
      "    self._final_estimator.fit(Xt, y, **fit_params_last_step)\n",
      "  File \"C:\\Users\\aravinddudam\\AppData\\Local\\anaconda3\\lib\\site-packages\\sklearn\\linear_model\\_logistic.py\", line 1162, in fit\n",
      "    solver = _check_solver(self.solver, self.penalty, self.dual)\n",
      "  File \"C:\\Users\\aravinddudam\\AppData\\Local\\anaconda3\\lib\\site-packages\\sklearn\\linear_model\\_logistic.py\", line 54, in _check_solver\n",
      "    raise ValueError(\n",
      "ValueError: Solver lbfgs supports only 'l2' or 'none' penalties, got l1 penalty.\n",
      "\n",
      "--------------------------------------------------------------------------------\n",
      "35 fits failed with the following error:\n",
      "Traceback (most recent call last):\n",
      "  File \"C:\\Users\\aravinddudam\\AppData\\Local\\anaconda3\\lib\\site-packages\\sklearn\\model_selection\\_validation.py\", line 686, in _fit_and_score\n",
      "    estimator.fit(X_train, y_train, **fit_params)\n",
      "  File \"C:\\Users\\aravinddudam\\AppData\\Local\\anaconda3\\lib\\site-packages\\sklearn\\pipeline.py\", line 405, in fit\n",
      "    self._final_estimator.fit(Xt, y, **fit_params_last_step)\n",
      "  File \"C:\\Users\\aravinddudam\\AppData\\Local\\anaconda3\\lib\\site-packages\\sklearn\\linear_model\\_logistic.py\", line 1162, in fit\n",
      "    solver = _check_solver(self.solver, self.penalty, self.dual)\n",
      "  File \"C:\\Users\\aravinddudam\\AppData\\Local\\anaconda3\\lib\\site-packages\\sklearn\\linear_model\\_logistic.py\", line 54, in _check_solver\n",
      "    raise ValueError(\n",
      "ValueError: Solver sag supports only 'l2' or 'none' penalties, got l1 penalty.\n",
      "\n",
      "--------------------------------------------------------------------------------\n",
      "35 fits failed with the following error:\n",
      "Traceback (most recent call last):\n",
      "  File \"C:\\Users\\aravinddudam\\AppData\\Local\\anaconda3\\lib\\site-packages\\sklearn\\model_selection\\_validation.py\", line 686, in _fit_and_score\n",
      "    estimator.fit(X_train, y_train, **fit_params)\n",
      "  File \"C:\\Users\\aravinddudam\\AppData\\Local\\anaconda3\\lib\\site-packages\\sklearn\\pipeline.py\", line 405, in fit\n",
      "    self._final_estimator.fit(Xt, y, **fit_params_last_step)\n",
      "  File \"C:\\Users\\aravinddudam\\AppData\\Local\\anaconda3\\lib\\site-packages\\sklearn\\linear_model\\_logistic.py\", line 1162, in fit\n",
      "    solver = _check_solver(self.solver, self.penalty, self.dual)\n",
      "  File \"C:\\Users\\aravinddudam\\AppData\\Local\\anaconda3\\lib\\site-packages\\sklearn\\linear_model\\_logistic.py\", line 71, in _check_solver\n",
      "    raise ValueError(\"penalty='none' is not supported for the liblinear solver\")\n",
      "ValueError: penalty='none' is not supported for the liblinear solver\n",
      "\n",
      "  warnings.warn(some_fits_failed_message, FitFailedWarning)\n",
      "C:\\Users\\aravinddudam\\AppData\\Local\\anaconda3\\lib\\site-packages\\sklearn\\model_selection\\_search.py:952: UserWarning: One or more of the test scores are non-finite: [       nan        nan 0.75272395        nan 0.75272395 0.75272395\n",
      " 0.75272395 0.75272395 0.75272395 0.75272395 0.75272395 0.75272395\n",
      "        nan 0.75272395 0.75272395        nan        nan 0.7518367\n",
      "        nan 0.7518367  0.75096028 0.75096028 0.7518367  0.75096028\n",
      " 0.75096028 0.75272395 0.75272395        nan 0.75272395 0.75272395\n",
      "        nan        nan 0.7518367         nan 0.7518367  0.75096028\n",
      " 0.75096028 0.74920743 0.75096028 0.75096028 0.75272395 0.75272395\n",
      "        nan 0.75272395 0.75272395        nan        nan 0.75008927\n",
      "        nan 0.75711148 0.75096028 0.75096028 0.74657816 0.75096028\n",
      " 0.75096028 0.75272395 0.75272395        nan 0.75272395 0.75272395\n",
      "        nan        nan 0.65441296        nan 0.69034635 0.73430281\n",
      " 0.73430281 0.72201123 0.73430281 0.73430281 0.75272395 0.75272395\n",
      "        nan 0.75272395 0.75272395]\n",
      "  warnings.warn(\n"
     ]
    },
    {
     "name": "stdout",
     "output_type": "stream",
     "text": [
      "finished Gridsearch\n",
      "0.7571114789928696\n",
      "{'classifier__C': 0.1, 'classifier__max_iter': 500000, 'classifier__penalty': 'l1', 'classifier__solver': 'saga'}\n",
      "*****************************************************************************************************************************\n",
      "finished Gridsearch\n",
      "0.9210731327295746\n",
      "{'classifier': DecisionTreeClassifier(max_depth=25), 'classifier__max_depth': 25, 'classifier__min_samples_split': 2}\n",
      "*****************************************************************************************************************************\n",
      "finished Gridsearch\n",
      "0.9298481946743706\n",
      "{'classifier': RandomForestClassifier(max_depth=20, n_estimators=10), 'classifier__max_depth': 20, 'classifier__n_estimators': 10}\n",
      "*****************************************************************************************************************************\n",
      "finished Gridsearch\n",
      "0.8956676512913732\n",
      "{'classifier': KNeighborsClassifier(n_neighbors=1), 'classifier__n_neighbors': 1}\n",
      "*****************************************************************************************************************************\n",
      "finished Gridsearch\n",
      "0.9465002542712154\n",
      "{'classifier': GradientBoostingClassifier(learning_rate=0.05, max_depth=10), 'classifier__learning_rate': 0.05, 'classifier__max_depth': 10, 'classifier__n_estimators': 100}\n",
      "*****************************************************************************************************************************\n",
      "finished Gridsearch\n",
      "0.8140628212202855\n",
      "{'classifier': AdaBoostClassifier(n_estimators=250), 'classifier__learning_rate': 1.0, 'classifier__n_estimators': 250}\n",
      "*****************************************************************************************************************************\n"
     ]
    }
   ],
   "source": [
    "print(\"starting Gridsearch\")\n",
    "for i in range(len(pars)):\n",
    "    gs = GridSearchCV(pips[i], pars[i], cv=7 , n_jobs=-1)\n",
    "    gs = gs.fit(X_train_new,y_train_new)\n",
    "    print(\"finished Gridsearch\")\n",
    "    print(gs.best_score_)\n",
    "    print(gs.best_params_)\n",
    "    print(\"*\"*125)"
   ]
  },
  {
   "cell_type": "code",
   "execution_count": 54,
   "id": "37bc79ad",
   "metadata": {},
   "outputs": [
    {
     "name": "stdout",
     "output_type": "stream",
     "text": [
      "starting Gridsearch\n"
     ]
    },
    {
     "name": "stderr",
     "output_type": "stream",
     "text": [
      "C:\\Users\\aravinddudam\\AppData\\Local\\anaconda3\\lib\\site-packages\\sklearn\\model_selection\\_validation.py:378: FitFailedWarning: \n",
      "140 fits failed out of a total of 525.\n",
      "The score on these train-test partitions for these parameters will be set to nan.\n",
      "If these failures are not expected, you can try to debug them by setting error_score='raise'.\n",
      "\n",
      "Below are more details about the failures:\n",
      "--------------------------------------------------------------------------------\n",
      "35 fits failed with the following error:\n",
      "Traceback (most recent call last):\n",
      "  File \"C:\\Users\\aravinddudam\\AppData\\Local\\anaconda3\\lib\\site-packages\\sklearn\\model_selection\\_validation.py\", line 686, in _fit_and_score\n",
      "    estimator.fit(X_train, y_train, **fit_params)\n",
      "  File \"C:\\Users\\aravinddudam\\AppData\\Local\\anaconda3\\lib\\site-packages\\sklearn\\pipeline.py\", line 405, in fit\n",
      "    self._final_estimator.fit(Xt, y, **fit_params_last_step)\n",
      "  File \"C:\\Users\\aravinddudam\\AppData\\Local\\anaconda3\\lib\\site-packages\\sklearn\\linear_model\\_logistic.py\", line 1162, in fit\n",
      "    solver = _check_solver(self.solver, self.penalty, self.dual)\n",
      "  File \"C:\\Users\\aravinddudam\\AppData\\Local\\anaconda3\\lib\\site-packages\\sklearn\\linear_model\\_logistic.py\", line 54, in _check_solver\n",
      "    raise ValueError(\n",
      "ValueError: Solver newton-cg supports only 'l2' or 'none' penalties, got l1 penalty.\n",
      "\n",
      "--------------------------------------------------------------------------------\n",
      "35 fits failed with the following error:\n",
      "Traceback (most recent call last):\n",
      "  File \"C:\\Users\\aravinddudam\\AppData\\Local\\anaconda3\\lib\\site-packages\\sklearn\\model_selection\\_validation.py\", line 686, in _fit_and_score\n",
      "    estimator.fit(X_train, y_train, **fit_params)\n",
      "  File \"C:\\Users\\aravinddudam\\AppData\\Local\\anaconda3\\lib\\site-packages\\sklearn\\pipeline.py\", line 405, in fit\n",
      "    self._final_estimator.fit(Xt, y, **fit_params_last_step)\n",
      "  File \"C:\\Users\\aravinddudam\\AppData\\Local\\anaconda3\\lib\\site-packages\\sklearn\\linear_model\\_logistic.py\", line 1162, in fit\n",
      "    solver = _check_solver(self.solver, self.penalty, self.dual)\n",
      "  File \"C:\\Users\\aravinddudam\\AppData\\Local\\anaconda3\\lib\\site-packages\\sklearn\\linear_model\\_logistic.py\", line 54, in _check_solver\n",
      "    raise ValueError(\n",
      "ValueError: Solver lbfgs supports only 'l2' or 'none' penalties, got l1 penalty.\n",
      "\n",
      "--------------------------------------------------------------------------------\n",
      "35 fits failed with the following error:\n",
      "Traceback (most recent call last):\n",
      "  File \"C:\\Users\\aravinddudam\\AppData\\Local\\anaconda3\\lib\\site-packages\\sklearn\\model_selection\\_validation.py\", line 686, in _fit_and_score\n",
      "    estimator.fit(X_train, y_train, **fit_params)\n",
      "  File \"C:\\Users\\aravinddudam\\AppData\\Local\\anaconda3\\lib\\site-packages\\sklearn\\pipeline.py\", line 405, in fit\n",
      "    self._final_estimator.fit(Xt, y, **fit_params_last_step)\n",
      "  File \"C:\\Users\\aravinddudam\\AppData\\Local\\anaconda3\\lib\\site-packages\\sklearn\\linear_model\\_logistic.py\", line 1162, in fit\n",
      "    solver = _check_solver(self.solver, self.penalty, self.dual)\n",
      "  File \"C:\\Users\\aravinddudam\\AppData\\Local\\anaconda3\\lib\\site-packages\\sklearn\\linear_model\\_logistic.py\", line 54, in _check_solver\n",
      "    raise ValueError(\n",
      "ValueError: Solver sag supports only 'l2' or 'none' penalties, got l1 penalty.\n",
      "\n",
      "--------------------------------------------------------------------------------\n",
      "35 fits failed with the following error:\n",
      "Traceback (most recent call last):\n",
      "  File \"C:\\Users\\aravinddudam\\AppData\\Local\\anaconda3\\lib\\site-packages\\sklearn\\model_selection\\_validation.py\", line 686, in _fit_and_score\n",
      "    estimator.fit(X_train, y_train, **fit_params)\n",
      "  File \"C:\\Users\\aravinddudam\\AppData\\Local\\anaconda3\\lib\\site-packages\\sklearn\\pipeline.py\", line 405, in fit\n",
      "    self._final_estimator.fit(Xt, y, **fit_params_last_step)\n",
      "  File \"C:\\Users\\aravinddudam\\AppData\\Local\\anaconda3\\lib\\site-packages\\sklearn\\linear_model\\_logistic.py\", line 1162, in fit\n",
      "    solver = _check_solver(self.solver, self.penalty, self.dual)\n",
      "  File \"C:\\Users\\aravinddudam\\AppData\\Local\\anaconda3\\lib\\site-packages\\sklearn\\linear_model\\_logistic.py\", line 71, in _check_solver\n",
      "    raise ValueError(\"penalty='none' is not supported for the liblinear solver\")\n",
      "ValueError: penalty='none' is not supported for the liblinear solver\n",
      "\n",
      "  warnings.warn(some_fits_failed_message, FitFailedWarning)\n",
      "C:\\Users\\aravinddudam\\AppData\\Local\\anaconda3\\lib\\site-packages\\sklearn\\model_selection\\_search.py:952: UserWarning: One or more of the test scores are non-finite: [       nan        nan 0.79006145        nan 0.79006145 0.79006145\n",
      " 0.79006145 0.79006145 0.79006145 0.79010447 0.79006145 0.79006145\n",
      "        nan 0.79008296 0.79010447        nan        nan 0.78991037\n",
      "        nan 0.78988886 0.78997489 0.78997489 0.78993161 0.78995338\n",
      " 0.78995338 0.79006145 0.79006145        nan 0.79006145 0.79008296\n",
      "        nan        nan 0.78917564        nan 0.78926167 0.789263\n",
      " 0.789263   0.78915572 0.789263   0.78921998 0.79006145 0.79006145\n",
      "        nan 0.79008296 0.79008296        nan        nan 0.78657793\n",
      "        nan 0.78761112 0.78346084 0.78348235 0.78290057 0.78343933\n",
      " 0.78346084 0.79006145 0.79006145        nan 0.79008296 0.79008296\n",
      "        nan        nan 0.72774955        nan 0.72932204 0.76549145\n",
      " 0.76546994 0.76560005 0.76549145 0.76551295 0.79006145 0.79006145\n",
      "        nan 0.79006145 0.79008296]\n",
      "  warnings.warn(\n"
     ]
    },
    {
     "name": "stdout",
     "output_type": "stream",
     "text": [
      "finished Gridsearch\n",
      "0.790104471199523\n",
      "{'classifier__C': 100, 'classifier__max_iter': 500000, 'classifier__penalty': 'l2', 'classifier__solver': 'saga'}\n",
      "*****************************************************************************************************************************\n",
      "finished Gridsearch\n",
      "0.9267786843065374\n",
      "{'classifier': DecisionTreeClassifier(max_depth=25, min_samples_split=5), 'classifier__max_depth': 25, 'classifier__min_samples_split': 5}\n",
      "*****************************************************************************************************************************\n",
      "finished Gridsearch\n",
      "0.9906112935321005\n",
      "{'classifier': RandomForestClassifier(max_depth=20), 'classifier__max_depth': 20, 'classifier__n_estimators': 100}\n",
      "*****************************************************************************************************************************\n",
      "finished Gridsearch\n",
      "0.8989983839677708\n",
      "{'classifier': KNeighborsClassifier(n_neighbors=2), 'classifier__n_neighbors': 2}\n",
      "*****************************************************************************************************************************\n",
      "finished Gridsearch\n",
      "0.990019421064287\n",
      "{'classifier': GradientBoostingClassifier(max_depth=10), 'classifier__learning_rate': 0.1, 'classifier__max_depth': 10, 'classifier__n_estimators': 100}\n",
      "*****************************************************************************************************************************\n",
      "finished Gridsearch\n",
      "0.8671911469261665\n",
      "{'classifier': AdaBoostClassifier(n_estimators=250), 'classifier__learning_rate': 1.0, 'classifier__n_estimators': 250}\n",
      "*****************************************************************************************************************************\n"
     ]
    }
   ],
   "source": [
    "print(\"starting Gridsearch\")\n",
    "for i in range(len(pars)):\n",
    "    gs = GridSearchCV(pips[i], pars[i], cv=7 , n_jobs=-1, scoring = 'roc_auc' )\n",
    "    gs = gs.fit(X_train_new,y_train_new)\n",
    "    print(\"finished Gridsearch\")\n",
    "    print(gs.best_score_)\n",
    "    print(gs.best_params_)\n",
    "    print(\"*\"*125)"
   ]
  },
  {
   "cell_type": "code",
   "execution_count": 55,
   "id": "cd8fce49",
   "metadata": {},
   "outputs": [],
   "source": [
    "#### Feature selection "
   ]
  },
  {
   "cell_type": "code",
   "execution_count": 56,
   "id": "693cdc07",
   "metadata": {},
   "outputs": [],
   "source": [
    "import statsmodels.api as sm"
   ]
  },
  {
   "cell_type": "code",
   "execution_count": 57,
   "id": "b3ed2759",
   "metadata": {},
   "outputs": [
    {
     "name": "stdout",
     "output_type": "stream",
     "text": [
      "Optimization terminated successfully.\n",
      "         Current function value: 0.577184\n",
      "         Iterations 6\n",
      "                         Results: Logit\n",
      "=================================================================\n",
      "Model:              Logit            Pseudo R-squared: 0.167     \n",
      "Dependent Variable: y                AIC:              1331.9801 \n",
      "Date:               2023-04-24 20:15 BIC:              1372.2903 \n",
      "No. Observations:   1140             Log-Likelihood:   -657.99   \n",
      "Df Model:           7                LL-Null:          -790.19   \n",
      "Df Residuals:       1132             LLR p-value:      2.3821e-53\n",
      "Converged:          1.0000           Scale:            1.0000    \n",
      "No. Iterations:     6.0000                                       \n",
      "--------------------------------------------------------------------\n",
      "       Coef.     Std.Err.       z       P>|z|      [0.025     0.975]\n",
      "--------------------------------------------------------------------\n",
      "x1    -1.0391      0.1918    -5.4186    0.0000    -1.4150    -0.6633\n",
      "x2    -0.7507      0.1847    -4.0640    0.0000    -1.1127    -0.3887\n",
      "x3    -0.6052      0.1737    -3.4838    0.0005    -0.9457    -0.2647\n",
      "x4    -0.1273      0.1711    -0.7436    0.4571    -0.4627     0.2082\n",
      "x5    -0.1483      0.1222    -1.2136    0.2249    -0.3878     0.0912\n",
      "x6    -0.0686      0.1524    -0.4501    0.6526    -0.3673     0.2301\n",
      "x7    -0.2443      0.1790    -1.3647    0.1723    -0.5951     0.1065\n",
      "x8    -1.0730      0.1185    -9.0526    0.0000    -1.3053    -0.8406\n",
      "=================================================================\n",
      "\n"
     ]
    }
   ],
   "source": [
    "logit_model=sm.Logit(y_train_new,X_train_new)\n",
    "result=logit_model.fit()\n",
    "print(result.summary2())"
   ]
  },
  {
   "cell_type": "markdown",
   "id": "ffa8c3a1",
   "metadata": {},
   "source": [
    "The features with p-value less than 0.05 are considered to be the more relevant feature."
   ]
  },
  {
   "cell_type": "code",
   "execution_count": 58,
   "id": "ad0e0f93",
   "metadata": {},
   "outputs": [
    {
     "data": {
      "text/plain": [
       "Index(['CC', 'BFS', 'FA', 'WC', 'SPC', 'CA', 'FAC', 'Age'], dtype='object')"
      ]
     },
     "execution_count": 58,
     "metadata": {},
     "output_type": "execute_result"
    }
   ],
   "source": [
    "X.columns"
   ]
  },
  {
   "cell_type": "markdown",
   "id": "f75f1ec7",
   "metadata": {},
   "source": [
    "From the above we can see that Features\n",
    "Age\n",
    "SPC\n",
    "Cement"
   ]
  },
  {
   "cell_type": "code",
   "execution_count": 60,
   "id": "767f58c9",
   "metadata": {},
   "outputs": [],
   "source": [
    "# Creating Model only with only the features "
   ]
  },
  {
   "cell_type": "code",
   "execution_count": 61,
   "id": "fb458f7c",
   "metadata": {},
   "outputs": [],
   "source": [
    "e= pd.DataFrame(X_train_new)"
   ]
  },
  {
   "cell_type": "code",
   "execution_count": 62,
   "id": "856b9811",
   "metadata": {},
   "outputs": [],
   "source": [
    "e.columns = X.columns"
   ]
  },
  {
   "cell_type": "code",
   "execution_count": 63,
   "id": "9da2de1a",
   "metadata": {},
   "outputs": [],
   "source": [
    "X_selected = e[['CC','SPC','Age']]"
   ]
  },
  {
   "cell_type": "code",
   "execution_count": 64,
   "id": "9600e681",
   "metadata": {},
   "outputs": [
    {
     "data": {
      "text/html": [
       "<div>\n",
       "<style scoped>\n",
       "    .dataframe tbody tr th:only-of-type {\n",
       "        vertical-align: middle;\n",
       "    }\n",
       "\n",
       "    .dataframe tbody tr th {\n",
       "        vertical-align: top;\n",
       "    }\n",
       "\n",
       "    .dataframe thead th {\n",
       "        text-align: right;\n",
       "    }\n",
       "</style>\n",
       "<table border=\"1\" class=\"dataframe\">\n",
       "  <thead>\n",
       "    <tr style=\"text-align: right;\">\n",
       "      <th></th>\n",
       "      <th>CC</th>\n",
       "      <th>SPC</th>\n",
       "      <th>Age</th>\n",
       "    </tr>\n",
       "  </thead>\n",
       "  <tbody>\n",
       "    <tr>\n",
       "      <th>0</th>\n",
       "      <td>0.582373</td>\n",
       "      <td>-1.039143</td>\n",
       "      <td>5.057677</td>\n",
       "    </tr>\n",
       "    <tr>\n",
       "      <th>1</th>\n",
       "      <td>-0.656431</td>\n",
       "      <td>0.702626</td>\n",
       "      <td>-0.501465</td>\n",
       "    </tr>\n",
       "    <tr>\n",
       "      <th>2</th>\n",
       "      <td>0.153483</td>\n",
       "      <td>0.551896</td>\n",
       "      <td>-0.279733</td>\n",
       "    </tr>\n",
       "    <tr>\n",
       "      <th>3</th>\n",
       "      <td>-0.509000</td>\n",
       "      <td>-1.039143</td>\n",
       "      <td>-0.279733</td>\n",
       "    </tr>\n",
       "    <tr>\n",
       "      <th>4</th>\n",
       "      <td>-0.853644</td>\n",
       "      <td>-1.039143</td>\n",
       "      <td>-0.279733</td>\n",
       "    </tr>\n",
       "  </tbody>\n",
       "</table>\n",
       "</div>"
      ],
      "text/plain": [
       "         CC       SPC       Age\n",
       "0  0.582373 -1.039143  5.057677\n",
       "1 -0.656431  0.702626 -0.501465\n",
       "2  0.153483  0.551896 -0.279733\n",
       "3 -0.509000 -1.039143 -0.279733\n",
       "4 -0.853644 -1.039143 -0.279733"
      ]
     },
     "execution_count": 64,
     "metadata": {},
     "output_type": "execute_result"
    }
   ],
   "source": [
    "X_selected .head()"
   ]
  },
  {
   "cell_type": "code",
   "execution_count": 65,
   "id": "9fa9f435",
   "metadata": {},
   "outputs": [
    {
     "data": {
      "text/plain": [
       "1140"
      ]
     },
     "execution_count": 65,
     "metadata": {},
     "output_type": "execute_result"
    }
   ],
   "source": [
    "len(X_selected)"
   ]
  },
  {
   "cell_type": "code",
   "execution_count": 66,
   "id": "5ac63d06",
   "metadata": {},
   "outputs": [
    {
     "data": {
      "text/plain": [
       "1140"
      ]
     },
     "execution_count": 66,
     "metadata": {},
     "output_type": "execute_result"
    }
   ],
   "source": [
    "len(y_train_new)"
   ]
  },
  {
   "cell_type": "code",
   "execution_count": 67,
   "id": "f037b1c1",
   "metadata": {},
   "outputs": [
    {
     "name": "stdout",
     "output_type": "stream",
     "text": [
      "starting Gridsearch\n"
     ]
    },
    {
     "name": "stderr",
     "output_type": "stream",
     "text": [
      "C:\\Users\\aravinddudam\\AppData\\Local\\anaconda3\\lib\\site-packages\\sklearn\\model_selection\\_validation.py:378: FitFailedWarning: \n",
      "140 fits failed out of a total of 525.\n",
      "The score on these train-test partitions for these parameters will be set to nan.\n",
      "If these failures are not expected, you can try to debug them by setting error_score='raise'.\n",
      "\n",
      "Below are more details about the failures:\n",
      "--------------------------------------------------------------------------------\n",
      "35 fits failed with the following error:\n",
      "Traceback (most recent call last):\n",
      "  File \"C:\\Users\\aravinddudam\\AppData\\Local\\anaconda3\\lib\\site-packages\\sklearn\\model_selection\\_validation.py\", line 686, in _fit_and_score\n",
      "    estimator.fit(X_train, y_train, **fit_params)\n",
      "  File \"C:\\Users\\aravinddudam\\AppData\\Local\\anaconda3\\lib\\site-packages\\sklearn\\pipeline.py\", line 405, in fit\n",
      "    self._final_estimator.fit(Xt, y, **fit_params_last_step)\n",
      "  File \"C:\\Users\\aravinddudam\\AppData\\Local\\anaconda3\\lib\\site-packages\\sklearn\\linear_model\\_logistic.py\", line 1162, in fit\n",
      "    solver = _check_solver(self.solver, self.penalty, self.dual)\n",
      "  File \"C:\\Users\\aravinddudam\\AppData\\Local\\anaconda3\\lib\\site-packages\\sklearn\\linear_model\\_logistic.py\", line 54, in _check_solver\n",
      "    raise ValueError(\n",
      "ValueError: Solver newton-cg supports only 'l2' or 'none' penalties, got l1 penalty.\n",
      "\n",
      "--------------------------------------------------------------------------------\n",
      "35 fits failed with the following error:\n",
      "Traceback (most recent call last):\n",
      "  File \"C:\\Users\\aravinddudam\\AppData\\Local\\anaconda3\\lib\\site-packages\\sklearn\\model_selection\\_validation.py\", line 686, in _fit_and_score\n",
      "    estimator.fit(X_train, y_train, **fit_params)\n",
      "  File \"C:\\Users\\aravinddudam\\AppData\\Local\\anaconda3\\lib\\site-packages\\sklearn\\pipeline.py\", line 405, in fit\n",
      "    self._final_estimator.fit(Xt, y, **fit_params_last_step)\n",
      "  File \"C:\\Users\\aravinddudam\\AppData\\Local\\anaconda3\\lib\\site-packages\\sklearn\\linear_model\\_logistic.py\", line 1162, in fit\n",
      "    solver = _check_solver(self.solver, self.penalty, self.dual)\n",
      "  File \"C:\\Users\\aravinddudam\\AppData\\Local\\anaconda3\\lib\\site-packages\\sklearn\\linear_model\\_logistic.py\", line 54, in _check_solver\n",
      "    raise ValueError(\n",
      "ValueError: Solver lbfgs supports only 'l2' or 'none' penalties, got l1 penalty.\n",
      "\n",
      "--------------------------------------------------------------------------------\n",
      "35 fits failed with the following error:\n",
      "Traceback (most recent call last):\n",
      "  File \"C:\\Users\\aravinddudam\\AppData\\Local\\anaconda3\\lib\\site-packages\\sklearn\\model_selection\\_validation.py\", line 686, in _fit_and_score\n",
      "    estimator.fit(X_train, y_train, **fit_params)\n",
      "  File \"C:\\Users\\aravinddudam\\AppData\\Local\\anaconda3\\lib\\site-packages\\sklearn\\pipeline.py\", line 405, in fit\n",
      "    self._final_estimator.fit(Xt, y, **fit_params_last_step)\n",
      "  File \"C:\\Users\\aravinddudam\\AppData\\Local\\anaconda3\\lib\\site-packages\\sklearn\\linear_model\\_logistic.py\", line 1162, in fit\n",
      "    solver = _check_solver(self.solver, self.penalty, self.dual)\n",
      "  File \"C:\\Users\\aravinddudam\\AppData\\Local\\anaconda3\\lib\\site-packages\\sklearn\\linear_model\\_logistic.py\", line 54, in _check_solver\n",
      "    raise ValueError(\n",
      "ValueError: Solver sag supports only 'l2' or 'none' penalties, got l1 penalty.\n",
      "\n",
      "--------------------------------------------------------------------------------\n",
      "35 fits failed with the following error:\n",
      "Traceback (most recent call last):\n",
      "  File \"C:\\Users\\aravinddudam\\AppData\\Local\\anaconda3\\lib\\site-packages\\sklearn\\model_selection\\_validation.py\", line 686, in _fit_and_score\n",
      "    estimator.fit(X_train, y_train, **fit_params)\n",
      "  File \"C:\\Users\\aravinddudam\\AppData\\Local\\anaconda3\\lib\\site-packages\\sklearn\\pipeline.py\", line 405, in fit\n",
      "    self._final_estimator.fit(Xt, y, **fit_params_last_step)\n",
      "  File \"C:\\Users\\aravinddudam\\AppData\\Local\\anaconda3\\lib\\site-packages\\sklearn\\linear_model\\_logistic.py\", line 1162, in fit\n",
      "    solver = _check_solver(self.solver, self.penalty, self.dual)\n",
      "  File \"C:\\Users\\aravinddudam\\AppData\\Local\\anaconda3\\lib\\site-packages\\sklearn\\linear_model\\_logistic.py\", line 71, in _check_solver\n",
      "    raise ValueError(\"penalty='none' is not supported for the liblinear solver\")\n",
      "ValueError: penalty='none' is not supported for the liblinear solver\n",
      "\n",
      "  warnings.warn(some_fits_failed_message, FitFailedWarning)\n",
      "C:\\Users\\aravinddudam\\AppData\\Local\\anaconda3\\lib\\site-packages\\sklearn\\model_selection\\_search.py:952: UserWarning: One or more of the test scores are non-finite: [       nan        nan 0.71912205        nan 0.71912205 0.71912205\n",
      " 0.71912205 0.71912205 0.71912205 0.71912205 0.71912205 0.71912205\n",
      "        nan 0.71912205 0.71912205        nan        nan 0.71912205\n",
      "        nan 0.71912205 0.71912205 0.71912205 0.71912205 0.71912205\n",
      " 0.71912205 0.71912205 0.71912205        nan 0.71912205 0.71912205\n",
      "        nan        nan 0.71912205        nan 0.71912205 0.71912205\n",
      " 0.71912205 0.71912205 0.71912205 0.71912205 0.71912205 0.71912205\n",
      "        nan 0.71912205 0.71912205        nan        nan 0.71215208\n",
      "        nan 0.72023646 0.71955616 0.71955616 0.71525155 0.71955616\n",
      " 0.71955616 0.71912205 0.71912205        nan 0.71912205 0.71912205\n",
      "        nan        nan 0.59856186        nan 0.62047503 0.69734949\n",
      " 0.69734949 0.68915728 0.69734949 0.69734949 0.71912205 0.71912205\n",
      "        nan 0.71912205 0.71912205]\n",
      "  warnings.warn(\n"
     ]
    },
    {
     "name": "stdout",
     "output_type": "stream",
     "text": [
      "finished Gridsearch\n",
      "0.7202364589930988\n",
      "{'classifier__C': 0.1, 'classifier__max_iter': 500000, 'classifier__penalty': 'l1', 'classifier__solver': 'saga'}\n",
      "*****************************************************************************************************************************\n",
      "finished Gridsearch\n",
      "0.8801497154764244\n",
      "{'classifier': DecisionTreeClassifier(), 'classifier__max_depth': None, 'classifier__min_samples_split': 2}\n",
      "*****************************************************************************************************************************\n",
      "finished Gridsearch\n",
      "0.8799455386358164\n",
      "{'classifier': RandomForestClassifier(max_depth=20, n_estimators=10), 'classifier__max_depth': 20, 'classifier__n_estimators': 10}\n",
      "*****************************************************************************************************************************\n",
      "finished Gridsearch\n",
      "0.8674977830916835\n",
      "{'classifier': KNeighborsClassifier(n_neighbors=2), 'classifier__n_neighbors': 2}\n",
      "*****************************************************************************************************************************\n",
      "finished Gridsearch\n",
      "0.877878352965577\n",
      "{'classifier': GradientBoostingClassifier(max_depth=10), 'classifier__learning_rate': 0.1, 'classifier__max_depth': 10, 'classifier__n_estimators': 100}\n",
      "*****************************************************************************************************************************\n",
      "finished Gridsearch\n",
      "0.7480821426856153\n",
      "{'classifier': AdaBoostClassifier(n_estimators=250), 'classifier__learning_rate': 1.0, 'classifier__n_estimators': 250}\n",
      "*****************************************************************************************************************************\n"
     ]
    }
   ],
   "source": [
    "print(\"starting Gridsearch\")\n",
    "for i in range(len(pars)):\n",
    "    gs = GridSearchCV(pips[i], pars[i], cv=7 , n_jobs=-1, scoring = Precision )\n",
    "    gs = gs.fit(X_selected,y_train_new)\n",
    "    print(\"finished Gridsearch\")\n",
    "    print(gs.best_score_)\n",
    "    print(gs.best_params_)\n",
    "    print(\"*\"*125)"
   ]
  },
  {
   "cell_type": "code",
   "execution_count": 68,
   "id": "87db629b",
   "metadata": {},
   "outputs": [
    {
     "name": "stdout",
     "output_type": "stream",
     "text": [
      "starting Gridsearch\n"
     ]
    },
    {
     "name": "stderr",
     "output_type": "stream",
     "text": [
      "C:\\Users\\aravinddudam\\AppData\\Local\\anaconda3\\lib\\site-packages\\sklearn\\model_selection\\_validation.py:378: FitFailedWarning: \n",
      "140 fits failed out of a total of 525.\n",
      "The score on these train-test partitions for these parameters will be set to nan.\n",
      "If these failures are not expected, you can try to debug them by setting error_score='raise'.\n",
      "\n",
      "Below are more details about the failures:\n",
      "--------------------------------------------------------------------------------\n",
      "35 fits failed with the following error:\n",
      "Traceback (most recent call last):\n",
      "  File \"C:\\Users\\aravinddudam\\AppData\\Local\\anaconda3\\lib\\site-packages\\sklearn\\model_selection\\_validation.py\", line 686, in _fit_and_score\n",
      "    estimator.fit(X_train, y_train, **fit_params)\n",
      "  File \"C:\\Users\\aravinddudam\\AppData\\Local\\anaconda3\\lib\\site-packages\\sklearn\\pipeline.py\", line 405, in fit\n",
      "    self._final_estimator.fit(Xt, y, **fit_params_last_step)\n",
      "  File \"C:\\Users\\aravinddudam\\AppData\\Local\\anaconda3\\lib\\site-packages\\sklearn\\linear_model\\_logistic.py\", line 1162, in fit\n",
      "    solver = _check_solver(self.solver, self.penalty, self.dual)\n",
      "  File \"C:\\Users\\aravinddudam\\AppData\\Local\\anaconda3\\lib\\site-packages\\sklearn\\linear_model\\_logistic.py\", line 54, in _check_solver\n",
      "    raise ValueError(\n",
      "ValueError: Solver newton-cg supports only 'l2' or 'none' penalties, got l1 penalty.\n",
      "\n",
      "--------------------------------------------------------------------------------\n",
      "35 fits failed with the following error:\n",
      "Traceback (most recent call last):\n",
      "  File \"C:\\Users\\aravinddudam\\AppData\\Local\\anaconda3\\lib\\site-packages\\sklearn\\model_selection\\_validation.py\", line 686, in _fit_and_score\n",
      "    estimator.fit(X_train, y_train, **fit_params)\n",
      "  File \"C:\\Users\\aravinddudam\\AppData\\Local\\anaconda3\\lib\\site-packages\\sklearn\\pipeline.py\", line 405, in fit\n",
      "    self._final_estimator.fit(Xt, y, **fit_params_last_step)\n",
      "  File \"C:\\Users\\aravinddudam\\AppData\\Local\\anaconda3\\lib\\site-packages\\sklearn\\linear_model\\_logistic.py\", line 1162, in fit\n",
      "    solver = _check_solver(self.solver, self.penalty, self.dual)\n",
      "  File \"C:\\Users\\aravinddudam\\AppData\\Local\\anaconda3\\lib\\site-packages\\sklearn\\linear_model\\_logistic.py\", line 54, in _check_solver\n",
      "    raise ValueError(\n",
      "ValueError: Solver lbfgs supports only 'l2' or 'none' penalties, got l1 penalty.\n",
      "\n",
      "--------------------------------------------------------------------------------\n",
      "35 fits failed with the following error:\n",
      "Traceback (most recent call last):\n",
      "  File \"C:\\Users\\aravinddudam\\AppData\\Local\\anaconda3\\lib\\site-packages\\sklearn\\model_selection\\_validation.py\", line 686, in _fit_and_score\n",
      "    estimator.fit(X_train, y_train, **fit_params)\n",
      "  File \"C:\\Users\\aravinddudam\\AppData\\Local\\anaconda3\\lib\\site-packages\\sklearn\\pipeline.py\", line 405, in fit\n",
      "    self._final_estimator.fit(Xt, y, **fit_params_last_step)\n",
      "  File \"C:\\Users\\aravinddudam\\AppData\\Local\\anaconda3\\lib\\site-packages\\sklearn\\linear_model\\_logistic.py\", line 1162, in fit\n",
      "    solver = _check_solver(self.solver, self.penalty, self.dual)\n",
      "  File \"C:\\Users\\aravinddudam\\AppData\\Local\\anaconda3\\lib\\site-packages\\sklearn\\linear_model\\_logistic.py\", line 54, in _check_solver\n",
      "    raise ValueError(\n",
      "ValueError: Solver sag supports only 'l2' or 'none' penalties, got l1 penalty.\n",
      "\n",
      "--------------------------------------------------------------------------------\n",
      "35 fits failed with the following error:\n",
      "Traceback (most recent call last):\n",
      "  File \"C:\\Users\\aravinddudam\\AppData\\Local\\anaconda3\\lib\\site-packages\\sklearn\\model_selection\\_validation.py\", line 686, in _fit_and_score\n",
      "    estimator.fit(X_train, y_train, **fit_params)\n",
      "  File \"C:\\Users\\aravinddudam\\AppData\\Local\\anaconda3\\lib\\site-packages\\sklearn\\pipeline.py\", line 405, in fit\n",
      "    self._final_estimator.fit(Xt, y, **fit_params_last_step)\n",
      "  File \"C:\\Users\\aravinddudam\\AppData\\Local\\anaconda3\\lib\\site-packages\\sklearn\\linear_model\\_logistic.py\", line 1162, in fit\n",
      "    solver = _check_solver(self.solver, self.penalty, self.dual)\n",
      "  File \"C:\\Users\\aravinddudam\\AppData\\Local\\anaconda3\\lib\\site-packages\\sklearn\\linear_model\\_logistic.py\", line 71, in _check_solver\n",
      "    raise ValueError(\"penalty='none' is not supported for the liblinear solver\")\n",
      "ValueError: penalty='none' is not supported for the liblinear solver\n",
      "\n",
      "  warnings.warn(some_fits_failed_message, FitFailedWarning)\n",
      "C:\\Users\\aravinddudam\\AppData\\Local\\anaconda3\\lib\\site-packages\\sklearn\\model_selection\\_search.py:952: UserWarning: One or more of the test scores are non-finite: [       nan        nan 0.76234838        nan 0.76234838 0.76234838\n",
      " 0.76234838 0.76234838 0.76234838 0.76234838 0.76234838 0.76234838\n",
      "        nan 0.76234838 0.76234838        nan        nan 0.76234838\n",
      "        nan 0.76234838 0.76234838 0.76234838 0.76234838 0.76234838\n",
      " 0.76234838 0.76234838 0.76234838        nan 0.76234838 0.76234838\n",
      "        nan        nan 0.76234838        nan 0.76234838 0.76234838\n",
      " 0.76234838 0.76234838 0.76234838 0.76234838 0.76234838 0.76234838\n",
      "        nan 0.76234838 0.76234838        nan        nan 0.76147196\n",
      "        nan 0.76497225 0.76410664 0.76410664 0.76147196 0.76410664\n",
      " 0.76410664 0.76234838 0.76234838        nan 0.76234838 0.76234838\n",
      "        nan        nan 0.6596715         nan 0.68421138 0.73869034\n",
      " 0.73869034 0.74129256 0.73869034 0.73869034 0.76234838 0.76234838\n",
      "        nan 0.76234838 0.76234838]\n",
      "  warnings.warn(\n"
     ]
    },
    {
     "name": "stdout",
     "output_type": "stream",
     "text": [
      "finished Gridsearch\n",
      "0.7649722465673385\n",
      "{'classifier__C': 0.1, 'classifier__max_iter': 500000, 'classifier__penalty': 'l1', 'classifier__solver': 'saga'}\n",
      "*****************************************************************************************************************************\n",
      "finished Gridsearch\n",
      "0.9210731327295745\n",
      "{'classifier': DecisionTreeClassifier(max_depth=25), 'classifier__max_depth': 25, 'classifier__min_samples_split': 2}\n",
      "*****************************************************************************************************************************\n",
      "finished Gridsearch\n",
      "0.9236969952716373\n",
      "{'classifier': RandomForestClassifier(max_depth=20, n_estimators=50), 'classifier__max_depth': 20, 'classifier__n_estimators': 50}\n",
      "*****************************************************************************************************************************\n",
      "finished Gridsearch\n",
      "0.8930059185682907\n",
      "{'classifier': KNeighborsClassifier(n_neighbors=1), 'classifier__n_neighbors': 1}\n",
      "*****************************************************************************************************************************\n",
      "finished Gridsearch\n",
      "0.9236915852457775\n",
      "{'classifier': GradientBoostingClassifier(max_depth=10), 'classifier__learning_rate': 0.1, 'classifier__max_depth': 10, 'classifier__n_estimators': 100}\n",
      "*****************************************************************************************************************************\n",
      "finished Gridsearch\n",
      "0.7859847870072818\n",
      "{'classifier': AdaBoostClassifier(n_estimators=250), 'classifier__learning_rate': 1.0, 'classifier__n_estimators': 250}\n",
      "*****************************************************************************************************************************\n"
     ]
    }
   ],
   "source": [
    "print(\"starting Gridsearch\")\n",
    "for i in range(len(pars)):\n",
    "    gs = GridSearchCV(pips[i], pars[i], cv=7 , n_jobs=-1 )\n",
    "    gs = gs.fit(X_selected,y_train_new)\n",
    "    print(\"finished Gridsearch\")\n",
    "    print(gs.best_score_)\n",
    "    print(gs.best_params_)\n",
    "    print(\"*\"*125)"
   ]
  },
  {
   "cell_type": "code",
   "execution_count": 69,
   "id": "29ce7619",
   "metadata": {},
   "outputs": [
    {
     "name": "stdout",
     "output_type": "stream",
     "text": [
      "starting Gridsearch\n"
     ]
    },
    {
     "name": "stderr",
     "output_type": "stream",
     "text": [
      "C:\\Users\\aravinddudam\\AppData\\Local\\anaconda3\\lib\\site-packages\\sklearn\\model_selection\\_validation.py:378: FitFailedWarning: \n",
      "140 fits failed out of a total of 525.\n",
      "The score on these train-test partitions for these parameters will be set to nan.\n",
      "If these failures are not expected, you can try to debug them by setting error_score='raise'.\n",
      "\n",
      "Below are more details about the failures:\n",
      "--------------------------------------------------------------------------------\n",
      "35 fits failed with the following error:\n",
      "Traceback (most recent call last):\n",
      "  File \"C:\\Users\\aravinddudam\\AppData\\Local\\anaconda3\\lib\\site-packages\\sklearn\\model_selection\\_validation.py\", line 686, in _fit_and_score\n",
      "    estimator.fit(X_train, y_train, **fit_params)\n",
      "  File \"C:\\Users\\aravinddudam\\AppData\\Local\\anaconda3\\lib\\site-packages\\sklearn\\pipeline.py\", line 405, in fit\n",
      "    self._final_estimator.fit(Xt, y, **fit_params_last_step)\n",
      "  File \"C:\\Users\\aravinddudam\\AppData\\Local\\anaconda3\\lib\\site-packages\\sklearn\\linear_model\\_logistic.py\", line 1162, in fit\n",
      "    solver = _check_solver(self.solver, self.penalty, self.dual)\n",
      "  File \"C:\\Users\\aravinddudam\\AppData\\Local\\anaconda3\\lib\\site-packages\\sklearn\\linear_model\\_logistic.py\", line 54, in _check_solver\n",
      "    raise ValueError(\n",
      "ValueError: Solver newton-cg supports only 'l2' or 'none' penalties, got l1 penalty.\n",
      "\n",
      "--------------------------------------------------------------------------------\n",
      "35 fits failed with the following error:\n",
      "Traceback (most recent call last):\n",
      "  File \"C:\\Users\\aravinddudam\\AppData\\Local\\anaconda3\\lib\\site-packages\\sklearn\\model_selection\\_validation.py\", line 686, in _fit_and_score\n",
      "    estimator.fit(X_train, y_train, **fit_params)\n",
      "  File \"C:\\Users\\aravinddudam\\AppData\\Local\\anaconda3\\lib\\site-packages\\sklearn\\pipeline.py\", line 405, in fit\n",
      "    self._final_estimator.fit(Xt, y, **fit_params_last_step)\n",
      "  File \"C:\\Users\\aravinddudam\\AppData\\Local\\anaconda3\\lib\\site-packages\\sklearn\\linear_model\\_logistic.py\", line 1162, in fit\n",
      "    solver = _check_solver(self.solver, self.penalty, self.dual)\n",
      "  File \"C:\\Users\\aravinddudam\\AppData\\Local\\anaconda3\\lib\\site-packages\\sklearn\\linear_model\\_logistic.py\", line 54, in _check_solver\n",
      "    raise ValueError(\n",
      "ValueError: Solver lbfgs supports only 'l2' or 'none' penalties, got l1 penalty.\n",
      "\n",
      "--------------------------------------------------------------------------------\n",
      "35 fits failed with the following error:\n",
      "Traceback (most recent call last):\n",
      "  File \"C:\\Users\\aravinddudam\\AppData\\Local\\anaconda3\\lib\\site-packages\\sklearn\\model_selection\\_validation.py\", line 686, in _fit_and_score\n",
      "    estimator.fit(X_train, y_train, **fit_params)\n",
      "  File \"C:\\Users\\aravinddudam\\AppData\\Local\\anaconda3\\lib\\site-packages\\sklearn\\pipeline.py\", line 405, in fit\n",
      "    self._final_estimator.fit(Xt, y, **fit_params_last_step)\n",
      "  File \"C:\\Users\\aravinddudam\\AppData\\Local\\anaconda3\\lib\\site-packages\\sklearn\\linear_model\\_logistic.py\", line 1162, in fit\n",
      "    solver = _check_solver(self.solver, self.penalty, self.dual)\n",
      "  File \"C:\\Users\\aravinddudam\\AppData\\Local\\anaconda3\\lib\\site-packages\\sklearn\\linear_model\\_logistic.py\", line 54, in _check_solver\n",
      "    raise ValueError(\n",
      "ValueError: Solver sag supports only 'l2' or 'none' penalties, got l1 penalty.\n",
      "\n",
      "--------------------------------------------------------------------------------\n",
      "35 fits failed with the following error:\n",
      "Traceback (most recent call last):\n",
      "  File \"C:\\Users\\aravinddudam\\AppData\\Local\\anaconda3\\lib\\site-packages\\sklearn\\model_selection\\_validation.py\", line 686, in _fit_and_score\n",
      "    estimator.fit(X_train, y_train, **fit_params)\n",
      "  File \"C:\\Users\\aravinddudam\\AppData\\Local\\anaconda3\\lib\\site-packages\\sklearn\\pipeline.py\", line 405, in fit\n",
      "    self._final_estimator.fit(Xt, y, **fit_params_last_step)\n",
      "  File \"C:\\Users\\aravinddudam\\AppData\\Local\\anaconda3\\lib\\site-packages\\sklearn\\linear_model\\_logistic.py\", line 1162, in fit\n",
      "    solver = _check_solver(self.solver, self.penalty, self.dual)\n",
      "  File \"C:\\Users\\aravinddudam\\AppData\\Local\\anaconda3\\lib\\site-packages\\sklearn\\linear_model\\_logistic.py\", line 71, in _check_solver\n",
      "    raise ValueError(\"penalty='none' is not supported for the liblinear solver\")\n",
      "ValueError: penalty='none' is not supported for the liblinear solver\n",
      "\n",
      "  warnings.warn(some_fits_failed_message, FitFailedWarning)\n",
      "C:\\Users\\aravinddudam\\AppData\\Local\\anaconda3\\lib\\site-packages\\sklearn\\model_selection\\_search.py:952: UserWarning: One or more of the test scores are non-finite: [       nan        nan 0.76924183        nan 0.76924183 0.76924183\n",
      " 0.76924183 0.76924183 0.76924183 0.76919855 0.76924183 0.76924183\n",
      "        nan 0.76922032 0.76924183        nan        nan 0.7690695\n",
      "        nan 0.76911252 0.76909101 0.76909101 0.76904799 0.76909101\n",
      " 0.76909101 0.76924183 0.76924183        nan 0.76924183 0.76917704\n",
      "        nan        nan 0.76881193        nan 0.76874714 0.76907003\n",
      " 0.76907003 0.76902701 0.76904852 0.76904852 0.76924183 0.76924183\n",
      "        nan 0.76924183 0.7691558         nan        nan 0.76683239\n",
      "        nan 0.76760482 0.76556181 0.76556181 0.76515236 0.76556181\n",
      " 0.76558332 0.76924183 0.76924183        nan 0.76924183 0.76919881\n",
      "        nan        nan 0.72270589        nan 0.7227728  0.75264895\n",
      " 0.75264895 0.75243334 0.75264895 0.75267046 0.76924183 0.76924183\n",
      "        nan 0.76924183 0.76922032]\n",
      "  warnings.warn(\n"
     ]
    },
    {
     "name": "stdout",
     "output_type": "stream",
     "text": [
      "finished Gridsearch\n",
      "0.7692418296904897\n",
      "{'classifier__C': 100, 'classifier__max_iter': 500000, 'classifier__penalty': 'l1', 'classifier__solver': 'liblinear'}\n",
      "*****************************************************************************************************************************\n",
      "finished Gridsearch\n",
      "0.9367805058611042\n",
      "{'classifier': DecisionTreeClassifier(min_samples_split=10), 'classifier__max_depth': None, 'classifier__min_samples_split': 10}\n",
      "*****************************************************************************************************************************\n",
      "finished Gridsearch\n",
      "0.967614963725573\n",
      "{'classifier': RandomForestClassifier(max_depth=20), 'classifier__max_depth': 20, 'classifier__n_estimators': 100}\n",
      "*****************************************************************************************************************************\n",
      "finished Gridsearch\n",
      "0.9119627542542327\n",
      "{'classifier': KNeighborsClassifier(n_neighbors=2), 'classifier__n_neighbors': 2}\n",
      "*****************************************************************************************************************************\n",
      "finished Gridsearch\n",
      "0.9540981525825447\n",
      "{'classifier': GradientBoostingClassifier(max_depth=5), 'classifier__learning_rate': 0.1, 'classifier__max_depth': 5, 'classifier__n_estimators': 100}\n",
      "*****************************************************************************************************************************\n",
      "finished Gridsearch\n",
      "0.8293784887682308\n",
      "{'classifier': AdaBoostClassifier(n_estimators=250), 'classifier__learning_rate': 1.0, 'classifier__n_estimators': 250}\n",
      "*****************************************************************************************************************************\n"
     ]
    }
   ],
   "source": [
    "print(\"starting Gridsearch\")\n",
    "for i in range(len(pars)):\n",
    "    gs = GridSearchCV(pips[i], pars[i], cv=7 , n_jobs=-1, scoring = 'roc_auc' )\n",
    "    gs = gs.fit(X_selected,y_train_new)\n",
    "    print(\"finished Gridsearch\")\n",
    "    print(gs.best_score_)\n",
    "    print(gs.best_params_)\n",
    "    print(\"*\"*125)"
   ]
  }
 ],
 "metadata": {
  "kernelspec": {
   "display_name": "Python 3 (ipykernel)",
   "language": "python",
   "name": "python3"
  },
  "language_info": {
   "codemirror_mode": {
    "name": "ipython",
    "version": 3
   },
   "file_extension": ".py",
   "mimetype": "text/x-python",
   "name": "python",
   "nbconvert_exporter": "python",
   "pygments_lexer": "ipython3",
   "version": "3.10.9"
  }
 },
 "nbformat": 4,
 "nbformat_minor": 5
}
